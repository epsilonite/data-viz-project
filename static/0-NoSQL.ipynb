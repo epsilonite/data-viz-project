{
 "cells": [
  {
   "cell_type": "code",
   "execution_count": 17,
   "id": "c507c36b-691f-4ae7-879a-c48540807bc8",
   "metadata": {},
   "outputs": [],
   "source": [
    "# Dependencies\n",
    "from pymongo import MongoClient\n",
    "import pandas as pd"
   ]
  },
  {
   "cell_type": "code",
   "execution_count": 18,
   "id": "393a6b91-7f2f-4db5-b2dc-247031ab9793",
   "metadata": {},
   "outputs": [],
   "source": [
    "# Create an instance of MongoClient\n",
    "mongo = MongoClient(port=27017)"
   ]
  },
  {
   "cell_type": "code",
   "execution_count": 19,
   "id": "213cf480-d53e-4624-b4f9-49101ef33039",
   "metadata": {},
   "outputs": [],
   "source": [
    "# assign the uk_food database to a variable name\n",
    "db = mongo.data_viz_project"
   ]
  },
  {
   "cell_type": "code",
   "execution_count": 20,
   "id": "edd2d0fc-ba0a-4e8c-bc99-90d58619516c",
   "metadata": {},
   "outputs": [
    {
     "data": {
      "text/plain": [
       "['faostat_rl_countries',\n",
       " 'geometry_countries_names',\n",
       " 'faostat_qcl_countries',\n",
       " 'faostat_qcl',\n",
       " 'faostat_countries_history',\n",
       " 'faostst_rl']"
      ]
     },
     "execution_count": 20,
     "metadata": {},
     "output_type": "execute_result"
    }
   ],
   "source": [
    "# review the collections in our database\n",
    "db.list_collection_names()"
   ]
  },
  {
   "cell_type": "code",
   "execution_count": 8,
   "id": "5934458d-2572-46d5-b4a0-ff6ddc4ca910",
   "metadata": {},
   "outputs": [],
   "source": [
    "# assign the collection to a variable\n",
    "geometry = db.geometry_countries_names"
   ]
  },
  {
   "cell_type": "code",
   "execution_count": 9,
   "id": "df8e4b62-b258-4904-8f00-c317b7975d92",
   "metadata": {},
   "outputs": [
    {
     "data": {
      "text/plain": [
       "{'_id': ObjectId('66e82a84094046ef1298f471'),\n",
       " 'gu_a3': 'AFG',\n",
       " 'geounit': 'Afghanistan',\n",
       " 'name_en': 'Afghanistan',\n",
       " 'formal_en': 'Islamic State of Afghanistan'}"
      ]
     },
     "execution_count": 9,
     "metadata": {},
     "output_type": "execute_result"
    }
   ],
   "source": [
    "geometry.find_one()"
   ]
  },
  {
   "cell_type": "code",
   "execution_count": 10,
   "id": "dc04f13e-15eb-477c-9e7d-9e2f9f900307",
   "metadata": {},
   "outputs": [],
   "source": [
    "rl = db.faostst_rl"
   ]
  },
  {
   "cell_type": "code",
   "execution_count": 30,
   "id": "4943bdd2-0626-424e-a88b-4a0887e1dfac",
   "metadata": {},
   "outputs": [
    {
     "data": {
      "text/plain": [
       "{'_id': ObjectId('66e7ee88094046ef12984dfd'),\n",
       " '': 0,\n",
       " 'Domain Code': 'RL',\n",
       " 'Domain': 'Land Use',\n",
       " 'Area Code': 2,\n",
       " 'Area': 'Afghanistan',\n",
       " 'Element Code': 5110,\n",
       " 'Element': 'Area',\n",
       " 'Item Code': 6601,\n",
       " 'Item': 'Land area',\n",
       " 'Year Code': 1961,\n",
       " 'Year': 1961,\n",
       " 'Unit': '1000 ha',\n",
       " 'Value': 65223}"
      ]
     },
     "execution_count": 30,
     "metadata": {},
     "output_type": "execute_result"
    }
   ],
   "source": [
    "rl.find_one()"
   ]
  },
  {
   "cell_type": "code",
   "execution_count": 12,
   "id": "6c584340-4433-42d8-92e4-400fb87f4f1c",
   "metadata": {},
   "outputs": [],
   "source": [
    "# Build the aggregation pipeline\n",
    "# Write a match query to find only the documents about artifacts that\n",
    "# have a classification where \"Sculpture\" is contained the value, and\n",
    "# have a width greater than or equal to 10cm and less than 50cm, and\n",
    "# have a height greater than or equal to 20cm and less than 60cm.\n",
    "match = {'$match': {'Area':{'$regex':'Afganistan'},\n",
    "                    'Item': {'$regex':'Cattle'}}}\n",
    "\n",
    "# Write an aggregation query that counts the number of documents, grouped by \"classification\" and \"culture\"\n",
    "# group ={'$group': {\n",
    "#     '_id':{'classification':'$classification','culture':'$culture'},\n",
    "#     'count': {'$sum':1},\n",
    "#     'max_height': {'$max':'$measurements.elementMeasurements.Height'}\n",
    "# }}\n",
    "\n",
    "# Create a dictionary that will allow the pipeline to sort by count in descending order\n",
    "# sort = {'$sort': {'count':-1,'_id.classification':1}}\n",
    "\n",
    "# Put the pipeline together\n",
    "pipeline = [match]"
   ]
  },
  {
   "cell_type": "code",
   "execution_count": 13,
   "id": "8a7cc1c0-9568-45db-af91-e5e2386bde32",
   "metadata": {},
   "outputs": [],
   "source": [
    "results = list(rl.aggregate(pipeline))"
   ]
  },
  {
   "cell_type": "code",
   "execution_count": 14,
   "id": "0fb4ba77-1973-4a80-8ddc-594c83d2ce32",
   "metadata": {},
   "outputs": [
    {
     "data": {
      "text/plain": [
       "[]"
      ]
     },
     "execution_count": 14,
     "metadata": {},
     "output_type": "execute_result"
    }
   ],
   "source": [
    "results"
   ]
  },
  {
   "cell_type": "code",
   "execution_count": 36,
   "id": "0d13d553-d315-441d-828c-0a500d869957",
   "metadata": {},
   "outputs": [
    {
     "data": {
      "text/plain": [
       "[]"
      ]
     },
     "execution_count": 36,
     "metadata": {},
     "output_type": "execute_result"
    }
   ],
   "source": [
    "# Query\n",
    "query = {'Area':'Afganistan'}\n",
    "fields ={'Element':1,'Year':1,'Unit':1,'Value':1}\n",
    "# sort = [('measurements.elementMeasurements.Height',1)]\n",
    "limit = 5\n",
    "# Cast the results as a list and save them to a variable\n",
    "[*rl.find({'Area':'Afganistan'})]"
   ]
  },
  {
   "cell_type": "code",
   "execution_count": null,
   "id": "cd103ed0-4156-4d0a-8300-938f80253527",
   "metadata": {},
   "outputs": [],
   "source": []
  },
  {
   "cell_type": "code",
   "execution_count": null,
   "id": "af884d8a-01a6-4bcb-b579-056b898107af",
   "metadata": {},
   "outputs": [],
   "source": []
  }
 ],
 "metadata": {
  "kernelspec": {
   "display_name": "Python 3 (ipykernel)",
   "language": "python",
   "name": "python3"
  },
  "language_info": {
   "codemirror_mode": {
    "name": "ipython",
    "version": 3
   },
   "file_extension": ".py",
   "mimetype": "text/x-python",
   "name": "python",
   "nbconvert_exporter": "python",
   "pygments_lexer": "ipython3",
   "version": "3.10.14"
  }
 },
 "nbformat": 4,
 "nbformat_minor": 5
}
