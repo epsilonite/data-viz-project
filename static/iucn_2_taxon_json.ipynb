{
 "cells": [
  {
   "cell_type": "code",
   "execution_count": null,
   "id": "2da387c0-7be6-401d-b923-94bb6dd3dccc",
   "metadata": {},
   "outputs": [],
   "source": [
    "import requests\n",
    "import json"
   ]
  },
  {
   "cell_type": "code",
   "execution_count": null,
   "id": "ba9118c6-7d21-41b7-9a02-4281c48faa59",
   "metadata": {},
   "outputs": [],
   "source": [
    "# Function to get taxonomic details from GBIF API\n",
    "def get_taxonomy_info(scientific_name):\n",
    "    url = f\"https://api.gbif.org/v1/species/match?name={scientific_name}\"\n",
    "    response = requests.get(url)\n",
    "    if response.status_code == 200:\n",
    "        data = response.json()\n",
    "        # Extracting phylum, class, and order\n",
    "        phylum = data.get('phylum')\n",
    "        tax_class = data.get('class')\n",
    "        order = data.get('order')\n",
    "        return phylum, tax_class, order\n",
    "    else:\n",
    "        return None, None, None"
   ]
  },
  {
   "cell_type": "code",
   "execution_count": null,
   "id": "d69ed78e-7f0e-4e2e-a651-e2b66c2f5d79",
   "metadata": {},
   "outputs": [],
   "source": [
    "# Load GeoJSON file and extract scientific names\n",
    "def process_geojson(file_path):\n",
    "    with open(file_path, 'r') as f:\n",
    "        geojson_data = json.load(f)\n",
    "    \n",
    "    # Assuming scientific names are in properties['sci_name'] of each feature\n",
    "    features = geojson_data['features']\n",
    "    \n",
    "    for feature in features:\n",
    "        scientific_name = feature['properties'].get('sci_name')\n",
    "        if scientific_name:\n",
    "            phylum, tax_class, order = get_taxonomy_info(scientific_name)\n",
    "            # Add taxonomic information to the GeoJSON\n",
    "            feature['properties']['phylum'] = phylum\n",
    "            feature['properties']['class'] = tax_class\n",
    "            feature['properties']['order'] = order\n",
    "    \n",
    "    # Save or print the updated GeoJSON\n",
    "    with open('data/iucn/iucn_geometry_updated.geojson', 'w') as f:\n",
    "        json.dump(geojson_data, f, indent=4)"
   ]
  },
  {
   "cell_type": "code",
   "execution_count": null,
   "id": "24e05250-fbff-4a3f-a792-4e3f69823076",
   "metadata": {},
   "outputs": [],
   "source": [
    "process_geojson('data/iucn/iucn_geometry.geojson')"
   ]
  }
 ],
 "metadata": {
  "kernelspec": {
   "display_name": "Python 3 (ipykernel)",
   "language": "python",
   "name": "python3"
  },
  "language_info": {
   "codemirror_mode": {
    "name": "ipython",
    "version": 3
   },
   "file_extension": ".py",
   "mimetype": "text/x-python",
   "name": "python",
   "nbconvert_exporter": "python",
   "pygments_lexer": "ipython3",
   "version": "3.10.14"
  }
 },
 "nbformat": 4,
 "nbformat_minor": 5
}
