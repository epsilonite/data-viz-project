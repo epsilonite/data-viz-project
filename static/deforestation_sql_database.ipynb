{
 "cells": [
  {
   "cell_type": "markdown",
   "id": "0665a5c5-ceb9-43a4-b281-4951cceda355",
   "metadata": {},
   "source": [
    "## SQL Database for deforestation"
   ]
  },
  {
   "cell_type": "markdown",
   "id": "652fc736-6702-4af7-adaa-74954c76c02d",
   "metadata": {},
   "source": [
    "### Import Dependencies"
   ]
  },
  {
   "cell_type": "code",
   "execution_count": 19,
   "id": "f3a7df69-0d57-44cd-9474-afe6b0dc4753",
   "metadata": {},
   "outputs": [],
   "source": [
    "import os\n",
    "import pandas as pd\n",
    "import sqlalchemy\n",
    "from sqlalchemy.ext.automap import automap_base\n",
    "from sqlalchemy.orm import Session\n",
    "from sqlalchemy import create_engine, func\n",
    "from sqlalchemy import text"
   ]
  },
  {
   "cell_type": "code",
   "execution_count": 20,
   "id": "b084619a-9c86-4dca-87c7-91dc41e983df",
   "metadata": {},
   "outputs": [
    {
     "ename": "PermissionError",
     "evalue": "[Errno 1] Operation not permitted",
     "output_type": "error",
     "traceback": [
      "\u001b[0;31m---------------------------------------------------------------------------\u001b[0m",
      "\u001b[0;31mPermissionError\u001b[0m                           Traceback (most recent call last)",
      "Cell \u001b[0;32mIn[20], line 7\u001b[0m\n\u001b[1;32m      4\u001b[0m destination_path \u001b[38;5;241m=\u001b[39m os\u001b[38;5;241m.\u001b[39mpath\u001b[38;5;241m.\u001b[39mjoin(destination_folder, database_filename)\n\u001b[1;32m      6\u001b[0m \u001b[38;5;66;03m# Create an SQLite engine\u001b[39;00m\n\u001b[0;32m----> 7\u001b[0m engine \u001b[38;5;241m=\u001b[39m \u001b[43mcreate_engine\u001b[49m\u001b[43m(\u001b[49m\u001b[38;5;124;43mf\u001b[39;49m\u001b[38;5;124;43m'\u001b[39;49m\u001b[38;5;124;43msqlite:///\u001b[39;49m\u001b[38;5;132;43;01m{\u001b[39;49;00m\u001b[43mdestination_path\u001b[49m\u001b[38;5;132;43;01m}\u001b[39;49;00m\u001b[38;5;124;43m'\u001b[39;49m\u001b[43m)\u001b[49m\n",
      "File \u001b[0;32m<string>:2\u001b[0m, in \u001b[0;36mcreate_engine\u001b[0;34m(url, **kwargs)\u001b[0m\n",
      "File \u001b[0;32m~/Applications/anaconda3/envs/dev/lib/python3.10/site-packages/sqlalchemy/util/deprecations.py:281\u001b[0m, in \u001b[0;36mdeprecated_params.<locals>.decorate.<locals>.warned\u001b[0;34m(fn, *args, **kwargs)\u001b[0m\n\u001b[1;32m    274\u001b[0m     \u001b[38;5;28;01mif\u001b[39;00m m \u001b[38;5;129;01min\u001b[39;00m kwargs:\n\u001b[1;32m    275\u001b[0m         _warn_with_version(\n\u001b[1;32m    276\u001b[0m             messages[m],\n\u001b[1;32m    277\u001b[0m             versions[m],\n\u001b[1;32m    278\u001b[0m             version_warnings[m],\n\u001b[1;32m    279\u001b[0m             stacklevel\u001b[38;5;241m=\u001b[39m\u001b[38;5;241m3\u001b[39m,\n\u001b[1;32m    280\u001b[0m         )\n\u001b[0;32m--> 281\u001b[0m \u001b[38;5;28;01mreturn\u001b[39;00m \u001b[43mfn\u001b[49m\u001b[43m(\u001b[49m\u001b[38;5;241;43m*\u001b[39;49m\u001b[43margs\u001b[49m\u001b[43m,\u001b[49m\u001b[43m \u001b[49m\u001b[38;5;241;43m*\u001b[39;49m\u001b[38;5;241;43m*\u001b[39;49m\u001b[43mkwargs\u001b[49m\u001b[43m)\u001b[49m\n",
      "File \u001b[0;32m~/Applications/anaconda3/envs/dev/lib/python3.10/site-packages/sqlalchemy/engine/create.py:615\u001b[0m, in \u001b[0;36mcreate_engine\u001b[0;34m(url, **kwargs)\u001b[0m\n\u001b[1;32m    612\u001b[0m dialect \u001b[38;5;241m=\u001b[39m dialect_cls(\u001b[38;5;241m*\u001b[39m\u001b[38;5;241m*\u001b[39mdialect_args)\n\u001b[1;32m    614\u001b[0m \u001b[38;5;66;03m# assemble connection arguments\u001b[39;00m\n\u001b[0;32m--> 615\u001b[0m (cargs_tup, cparams) \u001b[38;5;241m=\u001b[39m \u001b[43mdialect\u001b[49m\u001b[38;5;241;43m.\u001b[39;49m\u001b[43mcreate_connect_args\u001b[49m\u001b[43m(\u001b[49m\u001b[43mu\u001b[49m\u001b[43m)\u001b[49m\n\u001b[1;32m    616\u001b[0m cparams\u001b[38;5;241m.\u001b[39mupdate(pop_kwarg(\u001b[38;5;124m\"\u001b[39m\u001b[38;5;124mconnect_args\u001b[39m\u001b[38;5;124m\"\u001b[39m, {}))\n\u001b[1;32m    618\u001b[0m \u001b[38;5;28;01mif\u001b[39;00m \u001b[38;5;124m\"\u001b[39m\u001b[38;5;124masync_fallback\u001b[39m\u001b[38;5;124m\"\u001b[39m \u001b[38;5;129;01min\u001b[39;00m cparams \u001b[38;5;129;01mand\u001b[39;00m util\u001b[38;5;241m.\u001b[39masbool(cparams[\u001b[38;5;124m\"\u001b[39m\u001b[38;5;124masync_fallback\u001b[39m\u001b[38;5;124m\"\u001b[39m]):\n",
      "File \u001b[0;32m~/Applications/anaconda3/envs/dev/lib/python3.10/site-packages/sqlalchemy/dialects/sqlite/pysqlite.py:635\u001b[0m, in \u001b[0;36mSQLiteDialect_pysqlite.create_connect_args\u001b[0;34m(self, url)\u001b[0m\n\u001b[1;32m    633\u001b[0m     filename \u001b[38;5;241m=\u001b[39m url\u001b[38;5;241m.\u001b[39mdatabase \u001b[38;5;129;01mor\u001b[39;00m \u001b[38;5;124m\"\u001b[39m\u001b[38;5;124m:memory:\u001b[39m\u001b[38;5;124m\"\u001b[39m\n\u001b[1;32m    634\u001b[0m     \u001b[38;5;28;01mif\u001b[39;00m filename \u001b[38;5;241m!=\u001b[39m \u001b[38;5;124m\"\u001b[39m\u001b[38;5;124m:memory:\u001b[39m\u001b[38;5;124m\"\u001b[39m:\n\u001b[0;32m--> 635\u001b[0m         filename \u001b[38;5;241m=\u001b[39m \u001b[43mos\u001b[49m\u001b[38;5;241;43m.\u001b[39;49m\u001b[43mpath\u001b[49m\u001b[38;5;241;43m.\u001b[39;49m\u001b[43mabspath\u001b[49m\u001b[43m(\u001b[49m\u001b[43mfilename\u001b[49m\u001b[43m)\u001b[49m\n\u001b[1;32m    637\u001b[0m pysqlite_opts\u001b[38;5;241m.\u001b[39msetdefault(\n\u001b[1;32m    638\u001b[0m     \u001b[38;5;124m\"\u001b[39m\u001b[38;5;124mcheck_same_thread\u001b[39m\u001b[38;5;124m\"\u001b[39m, \u001b[38;5;129;01mnot\u001b[39;00m \u001b[38;5;28mself\u001b[39m\u001b[38;5;241m.\u001b[39m_is_url_file_db(url)\n\u001b[1;32m    639\u001b[0m )\n\u001b[1;32m    641\u001b[0m \u001b[38;5;28;01mreturn\u001b[39;00m ([filename], pysqlite_opts)\n",
      "File \u001b[0;32m~/Applications/anaconda3/envs/dev/lib/python3.10/posixpath.py:384\u001b[0m, in \u001b[0;36mabspath\u001b[0;34m(path)\u001b[0m\n\u001b[1;32m    382\u001b[0m         cwd \u001b[38;5;241m=\u001b[39m os\u001b[38;5;241m.\u001b[39mgetcwdb()\n\u001b[1;32m    383\u001b[0m     \u001b[38;5;28;01melse\u001b[39;00m:\n\u001b[0;32m--> 384\u001b[0m         cwd \u001b[38;5;241m=\u001b[39m \u001b[43mos\u001b[49m\u001b[38;5;241;43m.\u001b[39;49m\u001b[43mgetcwd\u001b[49m\u001b[43m(\u001b[49m\u001b[43m)\u001b[49m\n\u001b[1;32m    385\u001b[0m     path \u001b[38;5;241m=\u001b[39m join(cwd, path)\n\u001b[1;32m    386\u001b[0m \u001b[38;5;28;01mreturn\u001b[39;00m normpath(path)\n",
      "\u001b[0;31mPermissionError\u001b[0m: [Errno 1] Operation not permitted"
     ]
    }
   ],
   "source": [
    "# Define the destination folder and database path\n",
    "destination_folder = 'data'\n",
    "database_filename = 'deforestation_data.sqlite'\n",
    "destination_path = os.path.join(destination_folder, database_filename)\n",
    "\n",
    "# Create an SQLite engine\n",
    "engine = create_engine(f'sqlite:///{destination_path}')"
   ]
  },
  {
   "cell_type": "code",
   "execution_count": null,
   "id": "6a628e97-be50-4280-ab48-653aee323256",
   "metadata": {},
   "outputs": [],
   "source": [
    "# Load CSVs into DataFrames\n",
    "deforestation = pd.read_csv('data/deforestation_raw.csv', low_memory = False)\n",
    "\n",
    "# Check the DataFrame\n",
    "print(deforestation.head())"
   ]
  },
  {
   "cell_type": "code",
   "execution_count": null,
   "id": "81098ee9-ba1d-4070-aafd-5a9b01bbdb6f",
   "metadata": {},
   "outputs": [],
   "source": [
    "# Load DataFrame\n",
    "deforestation.to_sql('deforestation', con=engine, if_exists='replace', index=False)\n",
    "\n",
    "# Verify tables\n",
    "deforestation_from_db = pd.read_sql('SELECT * FROM deforestation', con=engine)\n",
    "\n",
    "\n",
    "# Check the data loaded\n",
    "print(deforestation_from_db.head())"
   ]
  },
  {
   "cell_type": "code",
   "execution_count": null,
   "id": "3024b494-ed17-4d7e-9318-9ed088d93de8",
   "metadata": {},
   "outputs": [],
   "source": [
    "# Check missing values\n",
    "# Percentage of missing values\n",
    "missing_percentage = deforestation.isnull().sum() * 100 / len(deforestation)\n",
    "print(missing_percentage)\n",
    "print()\n",
    "missing_values = deforestation.isnull().sum()\n",
    "print(missing_values)"
   ]
  },
  {
   "cell_type": "code",
   "execution_count": null,
   "id": "3273790e-9549-47bd-b770-9b8ee68c9220",
   "metadata": {},
   "outputs": [],
   "source": [
    "# Sort from most to least\n",
    "missing_values_sorted = missing_percentage.sort_values(ascending=False)\n",
    "\n",
    "# Display the sorted list of missing values\n",
    "print(missing_values_sorted)"
   ]
  },
  {
   "cell_type": "code",
   "execution_count": null,
   "id": "7ef1650a-3c68-431e-9acb-6204e6a6bc83",
   "metadata": {},
   "outputs": [],
   "source": [
    "deforestation.info()"
   ]
  },
  {
   "cell_type": "code",
   "execution_count": null,
   "id": "1f326153-a37a-48eb-803b-af250032f371",
   "metadata": {},
   "outputs": [],
   "source": [
    "deforestation.describe()"
   ]
  },
  {
   "cell_type": "code",
   "execution_count": null,
   "id": "fc915e2c-5345-43d0-9464-39567e338dc5",
   "metadata": {},
   "outputs": [],
   "source": []
  }
 ],
 "metadata": {
  "kernelspec": {
   "display_name": "Python 3 (ipykernel)",
   "language": "python",
   "name": "python3"
  },
  "language_info": {
   "codemirror_mode": {
    "name": "ipython",
    "version": 3
   },
   "file_extension": ".py",
   "mimetype": "text/x-python",
   "name": "python",
   "nbconvert_exporter": "python",
   "pygments_lexer": "ipython3",
   "version": "3.10.14"
  }
 },
 "nbformat": 4,
 "nbformat_minor": 5
}
