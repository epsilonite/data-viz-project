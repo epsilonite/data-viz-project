{
 "cells": [
  {
   "cell_type": "markdown",
   "id": "0665a5c5-ceb9-43a4-b281-4951cceda355",
   "metadata": {},
   "source": [
    "## SQL Database for deforestation"
   ]
  },
  {
   "cell_type": "markdown",
   "id": "652fc736-6702-4af7-adaa-74954c76c02d",
   "metadata": {},
   "source": [
    "### Import Dependencies"
   ]
  },
  {
   "cell_type": "code",
   "execution_count": 1,
   "id": "f3a7df69-0d57-44cd-9474-afe6b0dc4753",
   "metadata": {},
   "outputs": [],
   "source": [
    "import os\n",
    "import pandas as pd\n",
    "import sqlalchemy\n",
    "from sqlalchemy.ext.automap import automap_base\n",
    "from sqlalchemy.orm import Session\n",
    "from sqlalchemy import create_engine, func\n",
    "from sqlalchemy import text"
   ]
  },
  {
   "cell_type": "code",
   "execution_count": 2,
   "id": "b084619a-9c86-4dca-87c7-91dc41e983df",
   "metadata": {},
   "outputs": [],
   "source": [
    "# Define the destination folder and database path\n",
    "destination_folder = 'data'\n",
    "database_filename = 'deforestation_data.sqlite'\n",
    "destination_path = os.path.join(destination_folder, database_filename)\n",
    "\n",
    "# Create an SQLite engine\n",
    "engine = create_engine(f'sqlite:///{destination_path}')"
   ]
  },
  {
   "cell_type": "code",
   "execution_count": 3,
   "id": "6a628e97-be50-4280-ab48-653aee323256",
   "metadata": {},
   "outputs": [
    {
     "name": "stdout",
     "output_type": "stream",
     "text": [
      "       country  threshold      area  extent_2000  extent_2010  gain_2000-2020  \\\n",
      "0  Afghanistan          0  64385715     64385715     64385715           10741   \n",
      "1  Afghanistan         10  64385715       432115       126247           10741   \n",
      "2  Afghanistan         15  64385715       302660       106867           10741   \n",
      "3  Afghanistan         20  64385715       284357       105733           10741   \n",
      "4  Afghanistan         25  64385715       254867        72395           10741   \n",
      "\n",
      "   loss_2001  loss_2002  loss_2003  loss_2004  ...  emissions_2019  \\\n",
      "0        103        214        267        225  ...             NaN   \n",
      "1         92        190        253        207  ...             NaN   \n",
      "2         91        186        247        205  ...             NaN   \n",
      "3         89        180        245        203  ...             NaN   \n",
      "4         89        180        245        202  ...             NaN   \n",
      "\n",
      "   emissions_2020  emissions_2021  emissions_2022  emissions_2023  \\\n",
      "0             NaN             NaN             NaN             NaN   \n",
      "1             NaN             NaN             NaN             NaN   \n",
      "2             NaN             NaN             NaN             NaN   \n",
      "3             NaN             NaN             NaN             NaN   \n",
      "4             NaN             NaN             NaN             NaN   \n",
      "\n",
      "   subnational1  iso  loss__year  tree_cover_loss  tree_cover_loss_from_fires  \n",
      "0           NaN  AFG      2001.0        88.092712                   12.249294  \n",
      "1           NaN  AGO      2001.0    101220.621500                  888.694561  \n",
      "2           NaN  AIA      2001.0         3.878461                    0.000000  \n",
      "3           NaN  ALA      2001.0       396.934826                    8.129861  \n",
      "4           NaN  ALB      2001.0      3729.021031                  754.554994  \n",
      "\n",
      "[5 rows x 63 columns]\n"
     ]
    }
   ],
   "source": [
    "# Load CSVs into DataFrames\n",
    "deforestation = pd.read_csv('data/deforestation_raw.csv', low_memory = False)\n",
    "\n",
    "# Check the DataFrame\n",
    "print(deforestation.head())"
   ]
  },
  {
   "cell_type": "code",
   "execution_count": 4,
   "id": "81098ee9-ba1d-4070-aafd-5a9b01bbdb6f",
   "metadata": {},
   "outputs": [
    {
     "name": "stdout",
     "output_type": "stream",
     "text": [
      "       country  threshold      area  extent_2000  extent_2010  gain_2000-2020  \\\n",
      "0  Afghanistan          0  64385715     64385715     64385715           10741   \n",
      "1  Afghanistan         10  64385715       432115       126247           10741   \n",
      "2  Afghanistan         15  64385715       302660       106867           10741   \n",
      "3  Afghanistan         20  64385715       284357       105733           10741   \n",
      "4  Afghanistan         25  64385715       254867        72395           10741   \n",
      "\n",
      "   loss_2001  loss_2002  loss_2003  loss_2004  ...  emissions_2019  \\\n",
      "0        103        214        267        225  ...             NaN   \n",
      "1         92        190        253        207  ...             NaN   \n",
      "2         91        186        247        205  ...             NaN   \n",
      "3         89        180        245        203  ...             NaN   \n",
      "4         89        180        245        202  ...             NaN   \n",
      "\n",
      "   emissions_2020  emissions_2021  emissions_2022  emissions_2023  \\\n",
      "0             NaN             NaN             NaN             NaN   \n",
      "1             NaN             NaN             NaN             NaN   \n",
      "2             NaN             NaN             NaN             NaN   \n",
      "3             NaN             NaN             NaN             NaN   \n",
      "4             NaN             NaN             NaN             NaN   \n",
      "\n",
      "   subnational1  iso  loss__year  tree_cover_loss  tree_cover_loss_from_fires  \n",
      "0          None  AFG      2001.0        88.092712                   12.249294  \n",
      "1          None  AGO      2001.0    101220.621500                  888.694561  \n",
      "2          None  AIA      2001.0         3.878461                    0.000000  \n",
      "3          None  ALA      2001.0       396.934826                    8.129861  \n",
      "4          None  ALB      2001.0      3729.021031                  754.554994  \n",
      "\n",
      "[5 rows x 63 columns]\n"
     ]
    }
   ],
   "source": [
    "# Load DataFrame\n",
    "deforestation.to_sql('deforestation', con=engine, if_exists='replace', index=False)\n",
    "\n",
    "# Verify tables\n",
    "deforestation_from_db = pd.read_sql('SELECT * FROM deforestation', con=engine)\n",
    "\n",
    "\n",
    "# Check the data loaded\n",
    "print(deforestation_from_db.head())"
   ]
  },
  {
   "cell_type": "code",
   "execution_count": 5,
   "id": "3024b494-ed17-4d7e-9318-9ed088d93de8",
   "metadata": {},
   "outputs": [
    {
     "name": "stdout",
     "output_type": "stream",
     "text": [
      "country                        0.000000\n",
      "threshold                      0.000000\n",
      "area                           0.000000\n",
      "extent_2000                    0.000000\n",
      "extent_2010                    0.000000\n",
      "                                ...    \n",
      "subnational1                   6.316916\n",
      "iso                           84.706237\n",
      "loss__year                    84.706237\n",
      "tree_cover_loss               84.706237\n",
      "tree_cover_loss_from_fires    84.706237\n",
      "Length: 63, dtype: float64\n",
      "\n",
      "country                           0\n",
      "threshold                         0\n",
      "area                              0\n",
      "extent_2000                       0\n",
      "extent_2010                       0\n",
      "                              ...  \n",
      "subnational1                   1888\n",
      "iso                           25317\n",
      "loss__year                    25317\n",
      "tree_cover_loss               25317\n",
      "tree_cover_loss_from_fires    25317\n",
      "Length: 63, dtype: int64\n"
     ]
    }
   ],
   "source": [
    "# Check missing values\n",
    "# Percentage of missing values\n",
    "missing_percentage = deforestation.isnull().sum() * 100 / len(deforestation)\n",
    "print(missing_percentage)\n",
    "print()\n",
    "missing_values = deforestation.isnull().sum()\n",
    "print(missing_values)"
   ]
  },
  {
   "cell_type": "code",
   "execution_count": null,
   "id": "3273790e-9549-47bd-b770-9b8ee68c9220",
   "metadata": {},
   "outputs": [],
   "source": [
    "# Sort from most to least\n",
    "missing_values_sorted = missing_percentage.sort_values(ascending=False)\n",
    "\n",
    "# Display the sorted list of missing values\n",
    "print(missing_values_sorted)"
   ]
  },
  {
   "cell_type": "code",
   "execution_count": null,
   "id": "7ef1650a-3c68-431e-9acb-6204e6a6bc83",
   "metadata": {},
   "outputs": [],
   "source": [
    "deforestation.info()"
   ]
  },
  {
   "cell_type": "code",
   "execution_count": null,
   "id": "1f326153-a37a-48eb-803b-af250032f371",
   "metadata": {},
   "outputs": [],
   "source": [
    "deforestation.describe()"
   ]
  },
  {
   "cell_type": "code",
   "execution_count": null,
   "id": "fc915e2c-5345-43d0-9464-39567e338dc5",
   "metadata": {},
   "outputs": [],
   "source": []
  }
 ],
 "metadata": {
  "kernelspec": {
   "display_name": "Python 3 (ipykernel)",
   "language": "python",
   "name": "python3"
  },
  "language_info": {
   "codemirror_mode": {
    "name": "ipython",
    "version": 3
   },
   "file_extension": ".py",
   "mimetype": "text/x-python",
   "name": "python",
   "nbconvert_exporter": "python",
   "pygments_lexer": "ipython3",
   "version": "3.10.14"
  }
 },
 "nbformat": 4,
 "nbformat_minor": 5
}
