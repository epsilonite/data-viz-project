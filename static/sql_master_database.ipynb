{
 "cells": [
  {
   "cell_type": "code",
   "execution_count": 1,
   "id": "9b183870-bcd7-4927-95d6-08da47d8d752",
   "metadata": {},
   "outputs": [],
   "source": [
    "# SQL Master Database"
   ]
  },
  {
   "cell_type": "code",
   "execution_count": 2,
   "id": "fd6193af-e986-40df-86e4-bbacda4046eb",
   "metadata": {},
   "outputs": [],
   "source": [
    "### Import Dependencies"
   ]
  },
  {
   "cell_type": "code",
   "execution_count": 3,
   "id": "dade118b-abb0-4860-9688-48f0070a8d0b",
   "metadata": {},
   "outputs": [],
   "source": [
    "import os\n",
    "import pandas as pd\n",
    "import sqlalchemy\n",
    "from sqlalchemy.ext.automap import automap_base\n",
    "from sqlalchemy.orm import Session\n",
    "from sqlalchemy import create_engine, func\n",
    "from sqlalchemy import text"
   ]
  },
  {
   "cell_type": "code",
   "execution_count": 4,
   "id": "29f1cf79-db20-4624-83d0-229fad880b9a",
   "metadata": {},
   "outputs": [],
   "source": [
    "# Define the destination folder and database path\n",
    "destination_folder = 'data'\n",
    "database_filename = 'master.sqlite'\n",
    "destination_path = os.path.join(destination_folder, database_filename)\n",
    "\n",
    "# Create an SQLite engine\n",
    "engine = create_engine(f'sqlite:///{destination_path}')"
   ]
  },
  {
   "cell_type": "code",
   "execution_count": 5,
   "id": "42abfcd8-bd9a-45f4-92e2-7eb3ac38f962",
   "metadata": {},
   "outputs": [
    {
     "name": "stdout",
     "output_type": "stream",
     "text": [
      "             country_old  threshold      area  extent_2000  extent_2010  \\\n",
      "0            Afghanistan         30  64385715       205791        71797   \n",
      "1            Afghanistan         50  64385715       148430        46242   \n",
      "2            Afghanistan         75  64385715        75486        18270   \n",
      "3  Akrotiri and Dhekelia         30     23448          456          383   \n",
      "4  Akrotiri and Dhekelia         50     23448          336          238   \n",
      "\n",
      "   gain_2000-2020  2001  2002  2003  2004  ...  emissions_2020  \\\n",
      "0           10741    88   179   244   201  ...         11387.0   \n",
      "1           10741    78   135   200   159  ...         10299.0   \n",
      "2           10741    47    61    96    61  ...          6438.0   \n",
      "3              42     2     1     0     2  ...           321.0   \n",
      "4              42     1     1     0     2  ...            81.0   \n",
      "\n",
      "   emissions_2021  emissions_2022  emissions_2023  subnational1  iso  \\\n",
      "0          6746.0          1908.0          3296.0           NaN  AND   \n",
      "1          6020.0          1661.0          2407.0           NaN  ARG   \n",
      "2          2460.0           666.0          1739.0           NaN  ARM   \n",
      "3           212.0            39.0             0.0           NaN  BEL   \n",
      "4           185.0            39.0             0.0           NaN  BEN   \n",
      "\n",
      "   loss__year  tree_cover_loss  tree_cover_loss_from_fires      country  \n",
      "0      2001.0         1.654213                    0.285373  Afghanistan  \n",
      "1      2001.0    147805.950400                 7972.718403  Afghanistan  \n",
      "2      2001.0       131.840612                   28.985651  Afghanistan  \n",
      "3      2001.0       971.488195                   10.199186    not found  \n",
      "4      2001.0      3749.331105                    8.461169    not found  \n",
      "\n",
      "[5 rows x 64 columns]\n",
      "         country  iso  tree_cover_gain_1000_ha  umd_tree_cover_extent_2000__ha\n",
      "0          Aruba  ABW                 0.019240                    1.819751e+04\n",
      "1    Afghanistan  AFG                10.741024                    6.438572e+07\n",
      "2         Angola  AGO              1224.126467                    1.247423e+08\n",
      "3       Anguilla  AIA                 0.069881                    8.332248e+03\n",
      "4  Aland Islands  ALA                 2.582831                    1.506433e+05\n",
      "          Area  Item  Year Unit   Value\n",
      "0  Afghanistan  Rice  1961   ha  210000\n",
      "1  Afghanistan  Rice  1962   ha  210000\n",
      "2  Afghanistan  Rice  1963   ha  210000\n",
      "3  Afghanistan  Rice  1964   ha  220000\n",
      "4  Afghanistan  Rice  1965   ha  220000\n",
      "          Area  Year  Land area  Cropland  Permanent meadows and pastures  \\\n",
      "0  Afghanistan  1961    65223.0    7750.0                         30000.0   \n",
      "1  Afghanistan  1962    65223.0    7800.0                         30000.0   \n",
      "2  Afghanistan  1963    65223.0    7850.0                         30000.0   \n",
      "3  Afghanistan  1964    65223.0    7905.0                         30000.0   \n",
      "4  Afghanistan  1965    65223.0    7910.0                         30000.0   \n",
      "\n",
      "   Forest land  Other land  Farm buildings and Farmyards  Unaccounted  \n",
      "0          0.0         0.0                           0.0      27473.0  \n",
      "1          0.0         0.0                           0.0      27423.0  \n",
      "2          0.0         0.0                           0.0      27373.0  \n",
      "3          0.0         0.0                           0.0      27318.0  \n",
      "4          0.0         0.0                           0.0      27313.0  \n"
     ]
    }
   ],
   "source": [
    "# Load CSVs into DataFrames\n",
    "tree_loss = pd.read_csv('data/tree_loss_clean.csv', low_memory = False)\n",
    "tree_gain = pd.read_csv('data/tree_gain_clean.csv', low_memory = False)\n",
    "qcl = pd.read_csv('data/faostat/QCL_clean.csv')\n",
    "rl = pd.read_csv('data/faostat/RL_clean.csv')\n",
    "\n",
    "# Check the DataFrame\n",
    "print(tree_loss.head())\n",
    "print(tree_gain.head())\n",
    "print(qcl.head())\n",
    "print(rl.head())"
   ]
  },
  {
   "cell_type": "code",
   "execution_count": 6,
   "id": "1b332459-efa5-427b-b963-1169dcd8365d",
   "metadata": {},
   "outputs": [
    {
     "name": "stdout",
     "output_type": "stream",
     "text": [
      "             country_old  threshold      area  extent_2000  extent_2010  \\\n",
      "0            Afghanistan         30  64385715       205791        71797   \n",
      "1            Afghanistan         50  64385715       148430        46242   \n",
      "2            Afghanistan         75  64385715        75486        18270   \n",
      "3  Akrotiri and Dhekelia         30     23448          456          383   \n",
      "4  Akrotiri and Dhekelia         50     23448          336          238   \n",
      "\n",
      "   gain_2000-2020  2001  2002  2003  2004  ...  emissions_2020  \\\n",
      "0           10741    88   179   244   201  ...         11387.0   \n",
      "1           10741    78   135   200   159  ...         10299.0   \n",
      "2           10741    47    61    96    61  ...          6438.0   \n",
      "3              42     2     1     0     2  ...           321.0   \n",
      "4              42     1     1     0     2  ...            81.0   \n",
      "\n",
      "   emissions_2021  emissions_2022  emissions_2023  subnational1  iso  \\\n",
      "0          6746.0          1908.0          3296.0          None  AND   \n",
      "1          6020.0          1661.0          2407.0          None  ARG   \n",
      "2          2460.0           666.0          1739.0          None  ARM   \n",
      "3           212.0            39.0             0.0          None  BEL   \n",
      "4           185.0            39.0             0.0          None  BEN   \n",
      "\n",
      "   loss__year  tree_cover_loss  tree_cover_loss_from_fires      country  \n",
      "0      2001.0         1.654213                    0.285373  Afghanistan  \n",
      "1      2001.0    147805.950400                 7972.718403  Afghanistan  \n",
      "2      2001.0       131.840612                   28.985651  Afghanistan  \n",
      "3      2001.0       971.488195                   10.199186    not found  \n",
      "4      2001.0      3749.331105                    8.461169    not found  \n",
      "\n",
      "[5 rows x 64 columns]\n",
      "         country  iso  tree_cover_gain_1000_ha  umd_tree_cover_extent_2000__ha\n",
      "0          Aruba  ABW                 0.019240                    1.819751e+04\n",
      "1    Afghanistan  AFG                10.741024                    6.438572e+07\n",
      "2         Angola  AGO              1224.126467                    1.247423e+08\n",
      "3       Anguilla  AIA                 0.069881                    8.332248e+03\n",
      "4  Aland Islands  ALA                 2.582831                    1.506433e+05\n",
      "          Area  Item  Year Unit   Value\n",
      "0  Afghanistan  Rice  1961   ha  210000\n",
      "1  Afghanistan  Rice  1962   ha  210000\n",
      "2  Afghanistan  Rice  1963   ha  210000\n",
      "3  Afghanistan  Rice  1964   ha  220000\n",
      "4  Afghanistan  Rice  1965   ha  220000\n",
      "          Area  Year  Land area  Cropland  Permanent meadows and pastures  \\\n",
      "0  Afghanistan  1961    65223.0    7750.0                         30000.0   \n",
      "1  Afghanistan  1962    65223.0    7800.0                         30000.0   \n",
      "2  Afghanistan  1963    65223.0    7850.0                         30000.0   \n",
      "3  Afghanistan  1964    65223.0    7905.0                         30000.0   \n",
      "4  Afghanistan  1965    65223.0    7910.0                         30000.0   \n",
      "\n",
      "   Forest land  Other land  Farm buildings and Farmyards  Unaccounted  \n",
      "0          0.0         0.0                           0.0      27473.0  \n",
      "1          0.0         0.0                           0.0      27423.0  \n",
      "2          0.0         0.0                           0.0      27373.0  \n",
      "3          0.0         0.0                           0.0      27318.0  \n",
      "4          0.0         0.0                           0.0      27313.0  \n"
     ]
    }
   ],
   "source": [
    "# Load DataFrames\n",
    "tree_loss.to_sql('tree_loss', con=engine, if_exists='replace', index=False)\n",
    "tree_gain.to_sql('tree_gain', con=engine, if_exists='replace', index=False)\n",
    "qcl.to_sql('qcl', con=engine, if_exists='replace', index=False)\n",
    "rl.to_sql('rl', con=engine, if_exists='replace', index=False)\n",
    "\n",
    "# Verify tables\n",
    "tree_loss_from_db = pd.read_sql('SELECT * FROM tree_loss', con=engine)\n",
    "tree_gain_from_db = pd.read_sql('SELECT * FROM tree_gain', con=engine)\n",
    "qcl_from_db = pd.read_sql('SELECT * FROM qcl', con=engine)\n",
    "rl_from_db = pd.read_sql('SELECT * FROM rl', con=engine)\n",
    "\n",
    "# Check the data loaded\n",
    "print(tree_loss_from_db.head())\n",
    "print(tree_gain_from_db.head())\n",
    "print(qcl_from_db.head())\n",
    "print(rl_from_db.head())"
   ]
  },
  {
   "cell_type": "code",
   "execution_count": null,
   "id": "ee1d3b5c-848b-4c22-ae89-3e7d4e45d051",
   "metadata": {},
   "outputs": [],
   "source": []
  }
 ],
 "metadata": {
  "kernelspec": {
   "display_name": "Python 3 (ipykernel)",
   "language": "python",
   "name": "python3"
  },
  "language_info": {
   "codemirror_mode": {
    "name": "ipython",
    "version": 3
   },
   "file_extension": ".py",
   "mimetype": "text/x-python",
   "name": "python",
   "nbconvert_exporter": "python",
   "pygments_lexer": "ipython3",
   "version": "3.10.14"
  }
 },
 "nbformat": 4,
 "nbformat_minor": 5
}
