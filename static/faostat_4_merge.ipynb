{
 "cells": [
  {
   "cell_type": "code",
   "execution_count": 1,
   "id": "4d23ef6f-73a2-4299-8832-5ea7b52a62d3",
   "metadata": {},
   "outputs": [],
   "source": [
    "import pandas as pd\n",
    "import geopandas as gpd"
   ]
  },
  {
   "cell_type": "code",
   "execution_count": 2,
   "id": "327d06c0-5184-4835-98ef-2cbf75ebf7ad",
   "metadata": {},
   "outputs": [],
   "source": [
    "QCL_df = pd.read_csv('data/faostat/QCL_clean.csv')\n",
    "RL_df = pd.read_csv('data/faostat/RL_clean.csv')"
   ]
  },
  {
   "cell_type": "code",
   "execution_count": 3,
   "id": "47e6dc08-0709-46c1-b959-aaa63603cd3d",
   "metadata": {},
   "outputs": [],
   "source": [
    "QCL_df.drop(columns=['Unit'],inplace=True)"
   ]
  },
  {
   "cell_type": "code",
   "execution_count": 4,
   "id": "2ec01319-ae04-410a-a101-5874fb79a07b",
   "metadata": {},
   "outputs": [
    {
     "data": {
      "text/plain": [
       "Area     object\n",
       "Item     object\n",
       "Year      int64\n",
       "Value     int64\n",
       "dtype: object"
      ]
     },
     "execution_count": 4,
     "metadata": {},
     "output_type": "execute_result"
    }
   ],
   "source": [
    "QCL_df.dtypes"
   ]
  },
  {
   "cell_type": "code",
   "execution_count": 5,
   "id": "b04a3b29-0afe-47bc-a0f4-0b099e10dcc5",
   "metadata": {},
   "outputs": [
    {
     "data": {
      "text/plain": [
       "array(['Rice', 'Cattle and Buffaloes', 'Soya beans', 'Cocoa beans',\n",
       "       'Coffee, green', 'Oil palm fruit', 'Green corn/Maize'],\n",
       "      dtype=object)"
      ]
     },
     "execution_count": 5,
     "metadata": {},
     "output_type": "execute_result"
    }
   ],
   "source": [
    "QCL_df.Item.unique()"
   ]
  },
  {
   "cell_type": "code",
   "execution_count": 6,
   "id": "8b96e6ed-048e-4655-8f0c-abbe4bf7902a",
   "metadata": {},
   "outputs": [],
   "source": [
    "QCL_country = QCL_df.groupby('Area').agg(list)"
   ]
  },
  {
   "cell_type": "code",
   "execution_count": 7,
   "id": "e29136a3-293c-4f41-9db5-93120b8690f6",
   "metadata": {},
   "outputs": [],
   "source": [
    "QCLdict = {}\n",
    "for name in QCL_country.index:\n",
    "    dfx = pd.DataFrame([*QCL_country.loc[name]], index=['Name','Year','Value']).T\n",
    "    dfx = dfx.groupby('Name').agg(list)\n",
    "    items=[]\n",
    "    for n in dfx.index:\n",
    "        unit = 'hectare'\n",
    "        if n=='Cattle and Buffaloes': unit = 'animal'\n",
    "        items.append({'item':n,'unit':unit,'values':[*dfx.Value[n]],'years':[*dfx.Year[n]]})\n",
    "    QCLdict[name] = items"
   ]
  },
  {
   "cell_type": "code",
   "execution_count": 8,
   "id": "0e3dadc7-f926-41c3-87b3-366ba4ce42b4",
   "metadata": {},
   "outputs": [
    {
     "data": {
      "text/html": [
       "<div>\n",
       "<style scoped>\n",
       "    .dataframe tbody tr th:only-of-type {\n",
       "        vertical-align: middle;\n",
       "    }\n",
       "\n",
       "    .dataframe tbody tr th {\n",
       "        vertical-align: top;\n",
       "    }\n",
       "\n",
       "    .dataframe thead th {\n",
       "        text-align: right;\n",
       "    }\n",
       "</style>\n",
       "<table border=\"1\" class=\"dataframe\">\n",
       "  <thead>\n",
       "    <tr style=\"text-align: right;\">\n",
       "      <th></th>\n",
       "      <th>items</th>\n",
       "    </tr>\n",
       "    <tr>\n",
       "      <th>name</th>\n",
       "      <th></th>\n",
       "    </tr>\n",
       "  </thead>\n",
       "  <tbody>\n",
       "    <tr>\n",
       "      <th>Afghanistan</th>\n",
       "      <td>[{'item': 'Cattle and Buffaloes', 'unit': 'ani...</td>\n",
       "    </tr>\n",
       "    <tr>\n",
       "      <th>Albania</th>\n",
       "      <td>[{'item': 'Cattle and Buffaloes', 'unit': 'ani...</td>\n",
       "    </tr>\n",
       "    <tr>\n",
       "      <th>Algeria</th>\n",
       "      <td>[{'item': 'Cattle and Buffaloes', 'unit': 'ani...</td>\n",
       "    </tr>\n",
       "    <tr>\n",
       "      <th>Angola</th>\n",
       "      <td>[{'item': 'Cattle and Buffaloes', 'unit': 'ani...</td>\n",
       "    </tr>\n",
       "    <tr>\n",
       "      <th>Antigua and Barbuda</th>\n",
       "      <td>[{'item': 'Cattle and Buffaloes', 'unit': 'ani...</td>\n",
       "    </tr>\n",
       "    <tr>\n",
       "      <th>...</th>\n",
       "      <td>...</td>\n",
       "    </tr>\n",
       "    <tr>\n",
       "      <th>Venezuela (Bolivarian Republic of)</th>\n",
       "      <td>[{'item': 'Cattle and Buffaloes', 'unit': 'ani...</td>\n",
       "    </tr>\n",
       "    <tr>\n",
       "      <th>Viet Nam</th>\n",
       "      <td>[{'item': 'Cattle and Buffaloes', 'unit': 'ani...</td>\n",
       "    </tr>\n",
       "    <tr>\n",
       "      <th>Yemen</th>\n",
       "      <td>[{'item': 'Cattle and Buffaloes', 'unit': 'ani...</td>\n",
       "    </tr>\n",
       "    <tr>\n",
       "      <th>Zambia</th>\n",
       "      <td>[{'item': 'Cattle and Buffaloes', 'unit': 'ani...</td>\n",
       "    </tr>\n",
       "    <tr>\n",
       "      <th>Zimbabwe</th>\n",
       "      <td>[{'item': 'Cattle and Buffaloes', 'unit': 'ani...</td>\n",
       "    </tr>\n",
       "  </tbody>\n",
       "</table>\n",
       "<p>198 rows × 1 columns</p>\n",
       "</div>"
      ],
      "text/plain": [
       "                                                                                items\n",
       "name                                                                                 \n",
       "Afghanistan                         [{'item': 'Cattle and Buffaloes', 'unit': 'ani...\n",
       "Albania                             [{'item': 'Cattle and Buffaloes', 'unit': 'ani...\n",
       "Algeria                             [{'item': 'Cattle and Buffaloes', 'unit': 'ani...\n",
       "Angola                              [{'item': 'Cattle and Buffaloes', 'unit': 'ani...\n",
       "Antigua and Barbuda                 [{'item': 'Cattle and Buffaloes', 'unit': 'ani...\n",
       "...                                                                               ...\n",
       "Venezuela (Bolivarian Republic of)  [{'item': 'Cattle and Buffaloes', 'unit': 'ani...\n",
       "Viet Nam                            [{'item': 'Cattle and Buffaloes', 'unit': 'ani...\n",
       "Yemen                               [{'item': 'Cattle and Buffaloes', 'unit': 'ani...\n",
       "Zambia                              [{'item': 'Cattle and Buffaloes', 'unit': 'ani...\n",
       "Zimbabwe                            [{'item': 'Cattle and Buffaloes', 'unit': 'ani...\n",
       "\n",
       "[198 rows x 1 columns]"
      ]
     },
     "execution_count": 8,
     "metadata": {},
     "output_type": "execute_result"
    }
   ],
   "source": [
    "QCLjson = pd.DataFrame({'name': QCLdict.keys(), 'items':QCLdict.values()})\n",
    "QCLjson.set_index('name',inplace=True)\n",
    "QCLjson"
   ]
  },
  {
   "cell_type": "code",
   "execution_count": 9,
   "id": "e0ed7b30-02ba-427b-9c47-d5646302b5a1",
   "metadata": {},
   "outputs": [],
   "source": [
    "QCLjson.T.to_json('data/faostat/qcl.json')"
   ]
  },
  {
   "cell_type": "code",
   "execution_count": 10,
   "id": "488be4f2-2d8d-44cb-ad3c-5af1b9198309",
   "metadata": {},
   "outputs": [
    {
     "data": {
      "text/plain": [
       "Area                               object\n",
       "Year                                int64\n",
       "Land area                         float64\n",
       "Cropland                          float64\n",
       "Permanent meadows and pastures    float64\n",
       "Forest land                       float64\n",
       "Other land                        float64\n",
       "Farm buildings and Farmyards      float64\n",
       "Unaccounted                       float64\n",
       "dtype: object"
      ]
     },
     "execution_count": 10,
     "metadata": {},
     "output_type": "execute_result"
    }
   ],
   "source": [
    "RL_df.dtypes"
   ]
  },
  {
   "cell_type": "code",
   "execution_count": 11,
   "id": "9e1b532e-a3cc-48d2-a0a3-963b44d65016",
   "metadata": {},
   "outputs": [],
   "source": [
    "RL_country = RL_df.groupby('Area').agg(list)"
   ]
  },
  {
   "cell_type": "code",
   "execution_count": 12,
   "id": "af550ed0-21e7-4732-bf24-b4adad8aa429",
   "metadata": {},
   "outputs": [],
   "source": [
    "area = [a[0] for a in RL_country['Land area']]"
   ]
  },
  {
   "cell_type": "code",
   "execution_count": 13,
   "id": "85e9d853-36f8-489d-818e-6e4330518bc9",
   "metadata": {},
   "outputs": [],
   "source": [
    "landuse = ['Cropland','Permanent meadows and pastures',\n",
    "           'Forest land','Other land', 'Farm buildings and Farmyards','Unaccounted']"
   ]
  },
  {
   "cell_type": "code",
   "execution_count": 14,
   "id": "86e843e9-c92f-4c1c-91ca-4d77d14bfc0c",
   "metadata": {},
   "outputs": [],
   "source": [
    "RLdict = {}\n",
    "for name in RL_country.index:\n",
    "    usage = []\n",
    "    for use in landuse:\n",
    "        if sum([*RL_country.loc[name,use]]) != 0:\n",
    "            usage.append({'type':use,'unit':'1000 hectare',\n",
    "                          'values':[*RL_country.loc[name,use]],'years':[*RL_country.loc[name,'Year']]})\n",
    "    RLdict[name] = usage"
   ]
  },
  {
   "cell_type": "code",
   "execution_count": 15,
   "id": "f114f70d-8181-4fca-9ffb-813bb1d9882a",
   "metadata": {},
   "outputs": [
    {
     "data": {
      "text/html": [
       "<div>\n",
       "<style scoped>\n",
       "    .dataframe tbody tr th:only-of-type {\n",
       "        vertical-align: middle;\n",
       "    }\n",
       "\n",
       "    .dataframe tbody tr th {\n",
       "        vertical-align: top;\n",
       "    }\n",
       "\n",
       "    .dataframe thead th {\n",
       "        text-align: right;\n",
       "    }\n",
       "</style>\n",
       "<table border=\"1\" class=\"dataframe\">\n",
       "  <thead>\n",
       "    <tr style=\"text-align: right;\">\n",
       "      <th></th>\n",
       "      <th>landarea</th>\n",
       "      <th>landuse</th>\n",
       "    </tr>\n",
       "    <tr>\n",
       "      <th>name</th>\n",
       "      <th></th>\n",
       "      <th></th>\n",
       "    </tr>\n",
       "  </thead>\n",
       "  <tbody>\n",
       "    <tr>\n",
       "      <th>Afghanistan</th>\n",
       "      <td>65223.0</td>\n",
       "      <td>[{'type': 'Cropland', 'unit': '1000 hectare', ...</td>\n",
       "    </tr>\n",
       "    <tr>\n",
       "      <th>Albania</th>\n",
       "      <td>2740.0</td>\n",
       "      <td>[{'type': 'Cropland', 'unit': '1000 hectare', ...</td>\n",
       "    </tr>\n",
       "    <tr>\n",
       "      <th>Algeria</th>\n",
       "      <td>238174.0</td>\n",
       "      <td>[{'type': 'Cropland', 'unit': '1000 hectare', ...</td>\n",
       "    </tr>\n",
       "    <tr>\n",
       "      <th>American Samoa</th>\n",
       "      <td>20.0</td>\n",
       "      <td>[{'type': 'Cropland', 'unit': '1000 hectare', ...</td>\n",
       "    </tr>\n",
       "    <tr>\n",
       "      <th>Andorra</th>\n",
       "      <td>47.0</td>\n",
       "      <td>[{'type': 'Cropland', 'unit': '1000 hectare', ...</td>\n",
       "    </tr>\n",
       "    <tr>\n",
       "      <th>...</th>\n",
       "      <td>...</td>\n",
       "      <td>...</td>\n",
       "    </tr>\n",
       "    <tr>\n",
       "      <th>Wallis and Futuna Islands</th>\n",
       "      <td>14.0</td>\n",
       "      <td>[{'type': 'Cropland', 'unit': '1000 hectare', ...</td>\n",
       "    </tr>\n",
       "    <tr>\n",
       "      <th>Western Sahara</th>\n",
       "      <td>26600.0</td>\n",
       "      <td>[{'type': 'Cropland', 'unit': '1000 hectare', ...</td>\n",
       "    </tr>\n",
       "    <tr>\n",
       "      <th>Yemen</th>\n",
       "      <td>52797.0</td>\n",
       "      <td>[{'type': 'Cropland', 'unit': '1000 hectare', ...</td>\n",
       "    </tr>\n",
       "    <tr>\n",
       "      <th>Zambia</th>\n",
       "      <td>74339.0</td>\n",
       "      <td>[{'type': 'Cropland', 'unit': '1000 hectare', ...</td>\n",
       "    </tr>\n",
       "    <tr>\n",
       "      <th>Zimbabwe</th>\n",
       "      <td>38685.0</td>\n",
       "      <td>[{'type': 'Cropland', 'unit': '1000 hectare', ...</td>\n",
       "    </tr>\n",
       "  </tbody>\n",
       "</table>\n",
       "<p>237 rows × 2 columns</p>\n",
       "</div>"
      ],
      "text/plain": [
       "                           landarea  \\\n",
       "name                                  \n",
       "Afghanistan                 65223.0   \n",
       "Albania                      2740.0   \n",
       "Algeria                    238174.0   \n",
       "American Samoa                 20.0   \n",
       "Andorra                        47.0   \n",
       "...                             ...   \n",
       "Wallis and Futuna Islands      14.0   \n",
       "Western Sahara              26600.0   \n",
       "Yemen                       52797.0   \n",
       "Zambia                      74339.0   \n",
       "Zimbabwe                    38685.0   \n",
       "\n",
       "                                                                     landuse  \n",
       "name                                                                          \n",
       "Afghanistan                [{'type': 'Cropland', 'unit': '1000 hectare', ...  \n",
       "Albania                    [{'type': 'Cropland', 'unit': '1000 hectare', ...  \n",
       "Algeria                    [{'type': 'Cropland', 'unit': '1000 hectare', ...  \n",
       "American Samoa             [{'type': 'Cropland', 'unit': '1000 hectare', ...  \n",
       "Andorra                    [{'type': 'Cropland', 'unit': '1000 hectare', ...  \n",
       "...                                                                      ...  \n",
       "Wallis and Futuna Islands  [{'type': 'Cropland', 'unit': '1000 hectare', ...  \n",
       "Western Sahara             [{'type': 'Cropland', 'unit': '1000 hectare', ...  \n",
       "Yemen                      [{'type': 'Cropland', 'unit': '1000 hectare', ...  \n",
       "Zambia                     [{'type': 'Cropland', 'unit': '1000 hectare', ...  \n",
       "Zimbabwe                   [{'type': 'Cropland', 'unit': '1000 hectare', ...  \n",
       "\n",
       "[237 rows x 2 columns]"
      ]
     },
     "execution_count": 15,
     "metadata": {},
     "output_type": "execute_result"
    }
   ],
   "source": [
    "RLjson = pd.DataFrame({'name': RLdict.keys(), 'landarea':area,'landuse':RLdict.values()})\n",
    "RLjson.set_index('name',inplace=True)\n",
    "RLjson"
   ]
  },
  {
   "cell_type": "code",
   "execution_count": 16,
   "id": "ba9f5fa1-e85b-4bac-afae-ce33619c38e6",
   "metadata": {},
   "outputs": [],
   "source": [
    "RLjson.T.to_json('data/faostat/rl.json')"
   ]
  },
  {
   "cell_type": "code",
   "execution_count": 17,
   "id": "b7f8aab0-286c-406e-8249-34308362f2e8",
   "metadata": {},
   "outputs": [],
   "source": [
    "FAOjson = RLjson.join(QCLjson)"
   ]
  },
  {
   "cell_type": "code",
   "execution_count": 18,
   "id": "95847c78-4291-4e72-8098-70e511ed43c6",
   "metadata": {},
   "outputs": [
    {
     "data": {
      "text/html": [
       "<div>\n",
       "<style scoped>\n",
       "    .dataframe tbody tr th:only-of-type {\n",
       "        vertical-align: middle;\n",
       "    }\n",
       "\n",
       "    .dataframe tbody tr th {\n",
       "        vertical-align: top;\n",
       "    }\n",
       "\n",
       "    .dataframe thead th {\n",
       "        text-align: right;\n",
       "    }\n",
       "</style>\n",
       "<table border=\"1\" class=\"dataframe\">\n",
       "  <thead>\n",
       "    <tr style=\"text-align: right;\">\n",
       "      <th></th>\n",
       "      <th>landarea</th>\n",
       "      <th>landuse</th>\n",
       "      <th>items</th>\n",
       "    </tr>\n",
       "    <tr>\n",
       "      <th>name</th>\n",
       "      <th></th>\n",
       "      <th></th>\n",
       "      <th></th>\n",
       "    </tr>\n",
       "  </thead>\n",
       "  <tbody>\n",
       "    <tr>\n",
       "      <th>Afghanistan</th>\n",
       "      <td>65223.0</td>\n",
       "      <td>[{'type': 'Cropland', 'unit': '1000 hectare', ...</td>\n",
       "      <td>[{'item': 'Cattle and Buffaloes', 'unit': 'ani...</td>\n",
       "    </tr>\n",
       "    <tr>\n",
       "      <th>Albania</th>\n",
       "      <td>2740.0</td>\n",
       "      <td>[{'type': 'Cropland', 'unit': '1000 hectare', ...</td>\n",
       "      <td>[{'item': 'Cattle and Buffaloes', 'unit': 'ani...</td>\n",
       "    </tr>\n",
       "    <tr>\n",
       "      <th>Algeria</th>\n",
       "      <td>238174.0</td>\n",
       "      <td>[{'type': 'Cropland', 'unit': '1000 hectare', ...</td>\n",
       "      <td>[{'item': 'Cattle and Buffaloes', 'unit': 'ani...</td>\n",
       "    </tr>\n",
       "    <tr>\n",
       "      <th>American Samoa</th>\n",
       "      <td>20.0</td>\n",
       "      <td>[{'type': 'Cropland', 'unit': '1000 hectare', ...</td>\n",
       "      <td>NaN</td>\n",
       "    </tr>\n",
       "    <tr>\n",
       "      <th>Andorra</th>\n",
       "      <td>47.0</td>\n",
       "      <td>[{'type': 'Cropland', 'unit': '1000 hectare', ...</td>\n",
       "      <td>NaN</td>\n",
       "    </tr>\n",
       "    <tr>\n",
       "      <th>...</th>\n",
       "      <td>...</td>\n",
       "      <td>...</td>\n",
       "      <td>...</td>\n",
       "    </tr>\n",
       "    <tr>\n",
       "      <th>Wallis and Futuna Islands</th>\n",
       "      <td>14.0</td>\n",
       "      <td>[{'type': 'Cropland', 'unit': '1000 hectare', ...</td>\n",
       "      <td>NaN</td>\n",
       "    </tr>\n",
       "    <tr>\n",
       "      <th>Western Sahara</th>\n",
       "      <td>26600.0</td>\n",
       "      <td>[{'type': 'Cropland', 'unit': '1000 hectare', ...</td>\n",
       "      <td>NaN</td>\n",
       "    </tr>\n",
       "    <tr>\n",
       "      <th>Yemen</th>\n",
       "      <td>52797.0</td>\n",
       "      <td>[{'type': 'Cropland', 'unit': '1000 hectare', ...</td>\n",
       "      <td>[{'item': 'Cattle and Buffaloes', 'unit': 'ani...</td>\n",
       "    </tr>\n",
       "    <tr>\n",
       "      <th>Zambia</th>\n",
       "      <td>74339.0</td>\n",
       "      <td>[{'type': 'Cropland', 'unit': '1000 hectare', ...</td>\n",
       "      <td>[{'item': 'Cattle and Buffaloes', 'unit': 'ani...</td>\n",
       "    </tr>\n",
       "    <tr>\n",
       "      <th>Zimbabwe</th>\n",
       "      <td>38685.0</td>\n",
       "      <td>[{'type': 'Cropland', 'unit': '1000 hectare', ...</td>\n",
       "      <td>[{'item': 'Cattle and Buffaloes', 'unit': 'ani...</td>\n",
       "    </tr>\n",
       "  </tbody>\n",
       "</table>\n",
       "<p>237 rows × 3 columns</p>\n",
       "</div>"
      ],
      "text/plain": [
       "                           landarea  \\\n",
       "name                                  \n",
       "Afghanistan                 65223.0   \n",
       "Albania                      2740.0   \n",
       "Algeria                    238174.0   \n",
       "American Samoa                 20.0   \n",
       "Andorra                        47.0   \n",
       "...                             ...   \n",
       "Wallis and Futuna Islands      14.0   \n",
       "Western Sahara              26600.0   \n",
       "Yemen                       52797.0   \n",
       "Zambia                      74339.0   \n",
       "Zimbabwe                    38685.0   \n",
       "\n",
       "                                                                     landuse  \\\n",
       "name                                                                           \n",
       "Afghanistan                [{'type': 'Cropland', 'unit': '1000 hectare', ...   \n",
       "Albania                    [{'type': 'Cropland', 'unit': '1000 hectare', ...   \n",
       "Algeria                    [{'type': 'Cropland', 'unit': '1000 hectare', ...   \n",
       "American Samoa             [{'type': 'Cropland', 'unit': '1000 hectare', ...   \n",
       "Andorra                    [{'type': 'Cropland', 'unit': '1000 hectare', ...   \n",
       "...                                                                      ...   \n",
       "Wallis and Futuna Islands  [{'type': 'Cropland', 'unit': '1000 hectare', ...   \n",
       "Western Sahara             [{'type': 'Cropland', 'unit': '1000 hectare', ...   \n",
       "Yemen                      [{'type': 'Cropland', 'unit': '1000 hectare', ...   \n",
       "Zambia                     [{'type': 'Cropland', 'unit': '1000 hectare', ...   \n",
       "Zimbabwe                   [{'type': 'Cropland', 'unit': '1000 hectare', ...   \n",
       "\n",
       "                                                                       items  \n",
       "name                                                                          \n",
       "Afghanistan                [{'item': 'Cattle and Buffaloes', 'unit': 'ani...  \n",
       "Albania                    [{'item': 'Cattle and Buffaloes', 'unit': 'ani...  \n",
       "Algeria                    [{'item': 'Cattle and Buffaloes', 'unit': 'ani...  \n",
       "American Samoa                                                           NaN  \n",
       "Andorra                                                                  NaN  \n",
       "...                                                                      ...  \n",
       "Wallis and Futuna Islands                                                NaN  \n",
       "Western Sahara                                                           NaN  \n",
       "Yemen                      [{'item': 'Cattle and Buffaloes', 'unit': 'ani...  \n",
       "Zambia                     [{'item': 'Cattle and Buffaloes', 'unit': 'ani...  \n",
       "Zimbabwe                   [{'item': 'Cattle and Buffaloes', 'unit': 'ani...  \n",
       "\n",
       "[237 rows x 3 columns]"
      ]
     },
     "execution_count": 18,
     "metadata": {},
     "output_type": "execute_result"
    }
   ],
   "source": [
    "FAOjson"
   ]
  },
  {
   "cell_type": "code",
   "execution_count": 19,
   "id": "12c93dd1-8d00-4d37-98ab-a7ad06e3a782",
   "metadata": {},
   "outputs": [],
   "source": [
    "FAOjson.T.to_json('data/faostat/faostat.json')"
   ]
  },
  {
   "cell_type": "code",
   "execution_count": null,
   "id": "3b73fc6d-bb41-4849-9eda-eb66e6acd731",
   "metadata": {},
   "outputs": [],
   "source": []
  }
 ],
 "metadata": {
  "kernelspec": {
   "display_name": "Python 3 (ipykernel)",
   "language": "python",
   "name": "python3"
  },
  "language_info": {
   "codemirror_mode": {
    "name": "ipython",
    "version": 3
   },
   "file_extension": ".py",
   "mimetype": "text/x-python",
   "name": "python",
   "nbconvert_exporter": "python",
   "pygments_lexer": "ipython3",
   "version": "3.10.14"
  }
 },
 "nbformat": 4,
 "nbformat_minor": 5
}
