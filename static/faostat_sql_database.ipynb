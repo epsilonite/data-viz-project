{
 "cells": [
  {
   "cell_type": "markdown",
   "id": "2f6f4722-2709-4cee-add1-4f74f914ce4f",
   "metadata": {},
   "source": [
    "## SQL Database for faostat"
   ]
  },
  {
   "cell_type": "markdown",
   "id": "1e4b26e6-0edb-4299-a3c6-2325664550c5",
   "metadata": {},
   "source": [
    "### Import Dependencies"
   ]
  },
  {
   "cell_type": "code",
   "execution_count": 76,
   "id": "238876a4-1ffa-4a00-ac14-842fc44cc8d2",
   "metadata": {},
   "outputs": [],
   "source": [
    "import os\n",
    "import pandas as pd\n",
    "import sqlalchemy\n",
    "from sqlalchemy.ext.automap import automap_base\n",
    "from sqlalchemy.orm import Session\n",
    "from sqlalchemy import create_engine, func\n",
    "from sqlalchemy import text"
   ]
  },
  {
   "cell_type": "markdown",
   "id": "75241ed9-0073-4bbc-9637-9c76a31f5236",
   "metadata": {},
   "source": [
    "IUCN data is not in the database due to Red List Terms and Conditions stating no reposting: https://www.iucnredlist.org/es/terms/terms-of-use#:~:text=You%20may%20not%20repost%2C%20or,web%20maps%20that%20grant%20users"
   ]
  },
  {
   "cell_type": "code",
   "execution_count": 77,
   "id": "944f22de-3b86-441c-8d78-e73e167124f0",
   "metadata": {},
   "outputs": [],
   "source": [
    "# Define the destination folder and database path\n",
    "destination_folder = 'data'\n",
    "database_filename = 'faostat_data.sqlite'\n",
    "destination_path = os.path.join(destination_folder, database_filename)\n",
    "\n",
    "# Create an SQLite engine\n",
    "engine = create_engine(f'sqlite:///{destination_path}')"
   ]
  },
  {
   "cell_type": "code",
   "execution_count": 78,
   "id": "c334a127-b6d3-4b43-84f9-a8501211a064",
   "metadata": {},
   "outputs": [
    {
     "name": "stdout",
     "output_type": "stream",
     "text": [
      "          Area  Item  Year Unit   Value\n",
      "0  Afghanistan  Rice  1961   ha  210000\n",
      "1  Afghanistan  Rice  1962   ha  210000\n",
      "2  Afghanistan  Rice  1963   ha  210000\n",
      "3  Afghanistan  Rice  1964   ha  220000\n",
      "4  Afghanistan  Rice  1965   ha  220000\n",
      "          Area  Year  Land area  Cropland  Permanent meadows and pastures  \\\n",
      "0  Afghanistan  1961    65223.0    7750.0                         30000.0   \n",
      "1  Afghanistan  1962    65223.0    7800.0                         30000.0   \n",
      "2  Afghanistan  1963    65223.0    7850.0                         30000.0   \n",
      "3  Afghanistan  1964    65223.0    7905.0                         30000.0   \n",
      "4  Afghanistan  1965    65223.0    7910.0                         30000.0   \n",
      "\n",
      "   Forest land  Other land  Farm buildings and Farmyards  Unaccounted  \n",
      "0          0.0         0.0                           0.0      27473.0  \n",
      "1          0.0         0.0                           0.0      27423.0  \n",
      "2          0.0         0.0                           0.0      27373.0  \n",
      "3          0.0         0.0                           0.0      27318.0  \n",
      "4          0.0         0.0                           0.0      27313.0  \n"
     ]
    }
   ],
   "source": [
    "# Load CSVs into DataFrames\n",
    "qcl = pd.read_csv('data/faostat/QCL_clean.csv')\n",
    "rl = pd.read_csv('data/faostat/RL_clean.csv')\n",
    "\n",
    "# Check the DataFrame\n",
    "print(qcl.head())\n",
    "print(rl.head())"
   ]
  },
  {
   "cell_type": "code",
   "execution_count": 79,
   "id": "e477f6d1-cd11-4b33-816e-6c5868c7aa19",
   "metadata": {},
   "outputs": [
    {
     "name": "stdout",
     "output_type": "stream",
     "text": [
      "          Area  Item  Year Unit   Value\n",
      "0  Afghanistan  Rice  1961   ha  210000\n",
      "1  Afghanistan  Rice  1962   ha  210000\n",
      "2  Afghanistan  Rice  1963   ha  210000\n",
      "3  Afghanistan  Rice  1964   ha  220000\n",
      "4  Afghanistan  Rice  1965   ha  220000\n",
      "          Area  Year  Land area  Cropland  Permanent meadows and pastures  \\\n",
      "0  Afghanistan  1961    65223.0    7750.0                         30000.0   \n",
      "1  Afghanistan  1962    65223.0    7800.0                         30000.0   \n",
      "2  Afghanistan  1963    65223.0    7850.0                         30000.0   \n",
      "3  Afghanistan  1964    65223.0    7905.0                         30000.0   \n",
      "4  Afghanistan  1965    65223.0    7910.0                         30000.0   \n",
      "\n",
      "   Forest land  Other land  Farm buildings and Farmyards  Unaccounted  \n",
      "0          0.0         0.0                           0.0      27473.0  \n",
      "1          0.0         0.0                           0.0      27423.0  \n",
      "2          0.0         0.0                           0.0      27373.0  \n",
      "3          0.0         0.0                           0.0      27318.0  \n",
      "4          0.0         0.0                           0.0      27313.0  \n"
     ]
    }
   ],
   "source": [
    "# Load qcl DataFrame\n",
    "qcl.to_sql('qcl', con=engine, if_exists='replace', index=False)\n",
    "\n",
    "# Load rl DataFrame\n",
    "rl.to_sql('rl', con=engine, if_exists='replace', index=False)\n",
    "\n",
    "# Verify tables\n",
    "qcl_from_db = pd.read_sql('SELECT * FROM qcl', con=engine)\n",
    "rl_from_db = pd.read_sql('SELECT * FROM rl', con=engine)\n",
    "\n",
    "# Check the data loaded\n",
    "print(qcl_from_db.head())\n",
    "print(rl_from_db.head())"
   ]
  },
  {
   "cell_type": "markdown",
   "id": "6e09dddf-25c6-43e3-a56a-eb2a6498064d",
   "metadata": {},
   "source": [
    "### Basic Analysis"
   ]
  },
  {
   "cell_type": "code",
   "execution_count": 80,
   "id": "e82b9359-cbe4-4537-a3ba-a09c8ed97ae6",
   "metadata": {},
   "outputs": [
    {
     "name": "stdout",
     "output_type": "stream",
     "text": [
      "              Area                  Item  Year  Total_Production\n",
      "0      Afghanistan  Cattle and Buffaloes  1961           2900000\n",
      "1      Afghanistan      Green corn/Maize  1961            500000\n",
      "2      Afghanistan                  Rice  1961            210000\n",
      "3      Afghanistan  Cattle and Buffaloes  1962           3200000\n",
      "4      Afghanistan      Green corn/Maize  1962            500000\n",
      "...            ...                   ...   ...               ...\n",
      "45429     Zimbabwe  Cattle and Buffaloes  2022           5438771\n",
      "45430     Zimbabwe      Green corn/Maize  2022           1001819\n",
      "45431     Zimbabwe            Soya beans  2022             38177\n",
      "45432     Zimbabwe         Coffee, green  2022              2645\n",
      "45433     Zimbabwe                  Rice  2022              2144\n",
      "\n",
      "[45434 rows x 4 columns]\n"
     ]
    }
   ],
   "source": [
    "# Sum of each crop by country and year\n",
    "query = \"\"\"\n",
    "SELECT Area, Item, Year, SUM(Value) AS Total_Production\n",
    "FROM qcl\n",
    "GROUP BY Area, Item, Year\n",
    "ORDER BY Area, Year, Total_Production DESC\n",
    "\"\"\"\n",
    "\n",
    "crop_production_by_year = pd.read_sql(query, con=engine)\n",
    "\n",
    "print(crop_production_by_year)"
   ]
  },
  {
   "cell_type": "code",
   "execution_count": 81,
   "id": "399a4e5e-7899-41ce-9425-636bde3cf678",
   "metadata": {},
   "outputs": [
    {
     "name": "stdout",
     "output_type": "stream",
     "text": [
      "              Area  Year  Land_area_Percentage  Cropland_Percentage  \\\n",
      "0      Afghanistan  1961                 100.0            11.882311   \n",
      "1      Afghanistan  1962                 100.0            11.958972   \n",
      "2      Afghanistan  1963                 100.0            12.035632   \n",
      "3      Afghanistan  1964                 100.0            12.119958   \n",
      "4      Afghanistan  1965                 100.0            12.127624   \n",
      "...            ...   ...                   ...                  ...   \n",
      "13313     Zimbabwe  2018                 100.0             8.705261   \n",
      "13314     Zimbabwe  2019                 100.0             8.240085   \n",
      "13315     Zimbabwe  2020                 100.0             8.475800   \n",
      "13316     Zimbabwe  2021                 100.0             8.107633   \n",
      "13317     Zimbabwe  2022                 100.0             8.211011   \n",
      "\n",
      "       Permanent_meadows_and_pastures_Percentage  Forest_land_Percentage  \\\n",
      "0                                      45.996044                0.000000   \n",
      "1                                      45.996044                0.000000   \n",
      "2                                      45.996044                0.000000   \n",
      "3                                      45.996044                0.000000   \n",
      "4                                      45.996044                0.000000   \n",
      "...                                          ...                     ...   \n",
      "13313                                  31.278273               45.332093   \n",
      "13314                                  31.278273               45.213002   \n",
      "13315                                  31.278273               45.093912   \n",
      "13316                                  31.278273               44.974822   \n",
      "13317                                  31.278273               44.855732   \n",
      "\n",
      "       Other_land_Percentage  Farm_buildings_and_Farmyards_Percentage  \\\n",
      "0                   0.000000                                      0.0   \n",
      "1                   0.000000                                      0.0   \n",
      "2                   0.000000                                      0.0   \n",
      "3                   0.000000                                      0.0   \n",
      "4                   0.000000                                      0.0   \n",
      "...                      ...                                      ...   \n",
      "13313              14.684373                                      0.0   \n",
      "13314              15.268640                                      0.0   \n",
      "13315              15.152014                                      0.0   \n",
      "13316              15.639272                                      0.0   \n",
      "13317              15.654983                                      0.0   \n",
      "\n",
      "       Unaccounted_Percentage  \n",
      "0                   42.121644  \n",
      "1                   42.044984  \n",
      "2                   41.968324  \n",
      "3                   41.883998  \n",
      "4                   41.876332  \n",
      "...                       ...  \n",
      "13313                0.000000  \n",
      "13314                0.000000  \n",
      "13315                0.000000  \n",
      "13316                0.000000  \n",
      "13317                0.000000  \n",
      "\n",
      "[13318 rows x 9 columns]\n"
     ]
    }
   ],
   "source": [
    "# Define SQL Query\n",
    "query_percentages = \"\"\"\n",
    "SELECT\n",
    "    Area,\n",
    "    Year,\n",
    "    100.0 AS Land_area_Percentage,\n",
    "    (Cropland / [Land area]) * 100 AS Cropland_Percentage,\n",
    "    ([Permanent meadows and pastures] / [Land area]) * 100 AS Permanent_meadows_and_pastures_Percentage,\n",
    "    ([Forest land] / [Land area]) * 100 AS Forest_land_Percentage,\n",
    "    ([Other land] / [Land area]) * 100 AS Other_land_Percentage,\n",
    "    ([Farm buildings and Farmyards] / [Land area]) * 100 AS Farm_buildings_and_Farmyards_Percentage,\n",
    "    ([Unaccounted] / [Land area]) * 100 AS Unaccounted_Percentage\n",
    "FROM rl;\n",
    "\"\"\"\n",
    "\n",
    "percentages_df = pd.read_sql(query_percentages, con=engine)\n",
    "\n",
    "print(percentages_df)"
   ]
  },
  {
   "cell_type": "code",
   "execution_count": 82,
   "id": "a7afb9cc-3ab9-48f4-b986-99966471e9da",
   "metadata": {},
   "outputs": [
    {
     "name": "stdout",
     "output_type": "stream",
     "text": [
      "                                 Area  Total_Cropland  Total_Land_Area  \\\n",
      "0                          Bangladesh       8818.0000          13017.0   \n",
      "1                              Rwanda       1618.4000           2467.0   \n",
      "2                             Burundi       1643.5085           2568.0   \n",
      "3                             Comoros        118.0000            186.1   \n",
      "4                              Tuvalu          1.8000              3.0   \n",
      "..                                ...             ...              ...   \n",
      "232       Falkland Islands (Malvinas)          0.0000           1217.0   \n",
      "233                           Curaçao          0.0000             44.4   \n",
      "234                  China, Macao SAR          0.0000              3.3   \n",
      "235  Bonaire, Sint Eustatius and Saba          0.0000             32.2   \n",
      "236                          Anguilla          0.0000              9.0   \n",
      "\n",
      "     Cropland_Percentage  \n",
      "0              67.742183  \n",
      "1              65.601946  \n",
      "2              63.999552  \n",
      "3              63.406771  \n",
      "4              60.000000  \n",
      "..                   ...  \n",
      "232             0.000000  \n",
      "233             0.000000  \n",
      "234             0.000000  \n",
      "235             0.000000  \n",
      "236             0.000000  \n",
      "\n",
      "[237 rows x 4 columns]\n"
     ]
    }
   ],
   "source": [
    "# Define SQL query\n",
    "query = \"\"\"\n",
    "SELECT \n",
    "    Area,\n",
    "    SUM(Cropland) AS Total_Cropland,\n",
    "    SUM(\"Land area\") AS Total_Land_Area,\n",
    "    (SUM(Cropland) / SUM(\"Land area\")) * 100 AS Cropland_Percentage\n",
    "FROM \n",
    "    rl\n",
    "WHERE \n",
    "    Year = 2022\n",
    "GROUP BY \n",
    "    Area\n",
    "ORDER BY \n",
    "    Cropland_Percentage DESC;\n",
    "\"\"\"\n",
    "\n",
    "cropland_2022_percentage = pd.read_sql(query, con=engine)\n",
    "\n",
    "print(cropland_2022_percentage)"
   ]
  },
  {
   "cell_type": "markdown",
   "id": "b36e0f66-4e61-462c-bf45-6ef0255797f9",
   "metadata": {},
   "source": [
    "### Crop land use percentages by country for 2022"
   ]
  },
  {
   "cell_type": "code",
   "execution_count": 83,
   "id": "1ebf3420-ed13-4ed9-b9d1-f6d3672e94e3",
   "metadata": {},
   "outputs": [],
   "source": [
    "# Query to drop the table if it exists\n",
    "query_drop = \"DROP TABLE IF EXISTS rl_modified;\"\n",
    "\n",
    "# Execute\n",
    "with engine.connect() as conn:\n",
    "    conn.execute(text(query_drop))\n",
    "\n",
    "# Create the modified table\n",
    "query_multiply = \"\"\"\n",
    "CREATE TABLE rl_modified AS\n",
    "SELECT\n",
    "    Area,\n",
    "    Year,\n",
    "    \"Land area\" * 1000 AS Land_area,\n",
    "    Cropland * 1000 AS Cropland,\n",
    "    \"Permanent meadows and pastures\" * 1000 AS Permanent_meadows_and_pastures,\n",
    "    \"Forest land\" * 1000 AS Forest_land,\n",
    "    \"Other land\" * 1000 AS Other_land,\n",
    "    \"Farm buildings and Farmyards\" * 1000 AS Farm_buildings_and_Farmyards,\n",
    "    \"Unaccounted\" * 1000 AS Unaccounted\n",
    "FROM rl;\n",
    "\"\"\"\n",
    "\n",
    "# Execute\n",
    "with engine.connect() as conn:\n",
    "    conn.execute(text(query_multiply))"
   ]
  },
  {
   "cell_type": "code",
   "execution_count": 84,
   "id": "a39ac2f7-0da3-4371-a806-3bd2e9609ab7",
   "metadata": {},
   "outputs": [
    {
     "name": "stdout",
     "output_type": "stream",
     "text": [
      "                            Area                  Item  Year  \\\n",
      "0                    Afghanistan                  Rice  2022   \n",
      "1                    Afghanistan  Cattle and Buffaloes  2022   \n",
      "2                        Albania                  Rice  2022   \n",
      "3                        Albania            Soya beans  2022   \n",
      "4                        Albania  Cattle and Buffaloes  2022   \n",
      "..                           ...                   ...   ...   \n",
      "807                      Ukraine      Green corn/Maize  2022   \n",
      "808  United Republic of Tanzania      Green corn/Maize  2022   \n",
      "809     United States of America      Green corn/Maize  2022   \n",
      "810                      Uruguay      Green corn/Maize  2022   \n",
      "811                     Zimbabwe      Green corn/Maize  2022   \n",
      "\n",
      "     Total_Agricultural_Land  Crop_Value  Agricultural_Land_Percentage  \n",
      "0                  8051000.0      128000                      1.589865  \n",
      "1                  8051000.0     5568618                     69.166787  \n",
      "2                   686400.0           0                      0.000000  \n",
      "3                   686400.0         239                      0.034819  \n",
      "4                   686400.0      297656                     43.364802  \n",
      "..                       ...         ...                           ...  \n",
      "807               33777000.0     4128000                     12.221334  \n",
      "808               15521200.0     4014595                     25.865236  \n",
      "809              154739614.8    32192036                     20.804004  \n",
      "810                2154485.0      188069                      8.729186  \n",
      "811                3176429.7     1001819                     31.539152  \n",
      "\n",
      "[812 rows x 6 columns]\n"
     ]
    }
   ],
   "source": [
    "# Define SQL query\n",
    "query_percentage = \"\"\"\n",
    "WITH Agricultural_Land AS (\n",
    "    SELECT\n",
    "        Area,\n",
    "        SUM(Cropland + \"Permanent meadows and pastures\" + \"Farm buildings and Farmyards\") AS Total_Agricultural_Land\n",
    "    FROM rl_modified\n",
    "    WHERE Year = 2022\n",
    "    GROUP BY Area\n",
    "),\n",
    "Crop_Percentage AS (\n",
    "    SELECT\n",
    "        qcl.Area,\n",
    "        qcl.Item,\n",
    "        qcl.Year,\n",
    "        al.Total_Agricultural_Land,\n",
    "        qcl.Value AS Crop_Value,\n",
    "        (qcl.Value / al.Total_Agricultural_Land) * 100 AS Agricultural_Land_Percentage\n",
    "    FROM qcl\n",
    "    JOIN Agricultural_Land al ON qcl.Area = al.Area\n",
    "    WHERE qcl.Year = 2022\n",
    ")\n",
    "SELECT * FROM Crop_Percentage;\n",
    "\"\"\"\n",
    "\n",
    "crop_percentage_2022 = pd.read_sql(query_percentage, con=engine)\n",
    "\n",
    "print(crop_percentage_2022)"
   ]
  }
 ],
 "metadata": {
  "kernelspec": {
   "display_name": "Python 3 (ipykernel)",
   "language": "python",
   "name": "python3"
  },
  "language_info": {
   "codemirror_mode": {
    "name": "ipython",
    "version": 3
   },
   "file_extension": ".py",
   "mimetype": "text/x-python",
   "name": "python",
   "nbconvert_exporter": "python",
   "pygments_lexer": "ipython3",
   "version": "3.10.14"
  }
 },
 "nbformat": 4,
 "nbformat_minor": 5
}
