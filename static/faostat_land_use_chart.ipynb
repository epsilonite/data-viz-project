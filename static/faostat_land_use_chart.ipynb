{
 "cells": [
  {
   "cell_type": "code",
   "execution_count": 1,
   "id": "15e046c7-521f-45a9-a5e6-f86c9eace1f7",
   "metadata": {},
   "outputs": [],
   "source": [
    "import os\n",
    "import pandas as pd\n",
    "import plotly.graph_objects as go\n",
    "import sqlalchemy\n",
    "from sqlalchemy import create_engine, func"
   ]
  },
  {
   "cell_type": "code",
   "execution_count": 2,
   "id": "e9d43e58-0f56-4d24-8fda-fb6f11dda73a",
   "metadata": {},
   "outputs": [],
   "source": [
    "# Define the destination folder and database path\n",
    "destination_folder = 'data'\n",
    "database_filename = 'faostat_data.sqlite'\n",
    "destination_path = os.path.join(destination_folder, database_filename)\n",
    "\n",
    "# Create an SQLite engine\n",
    "engine = create_engine(f'sqlite:///{destination_path}')"
   ]
  },
  {
   "cell_type": "code",
   "execution_count": 3,
   "id": "8a42af11-0c7b-40b7-a9ab-c80af0ad2c32",
   "metadata": {},
   "outputs": [
    {
     "name": "stdout",
     "output_type": "stream",
     "text": [
      "              Area                  Item  Year  Total_Production\n",
      "0      Afghanistan  Cattle and Buffaloes  1961           2900000\n",
      "1      Afghanistan      Green corn/Maize  1961            500000\n",
      "2      Afghanistan                  Rice  1961            210000\n",
      "3      Afghanistan  Cattle and Buffaloes  1962           3200000\n",
      "4      Afghanistan      Green corn/Maize  1962            500000\n",
      "...            ...                   ...   ...               ...\n",
      "45429     Zimbabwe  Cattle and Buffaloes  2022           5438771\n",
      "45430     Zimbabwe      Green corn/Maize  2022           1001819\n",
      "45431     Zimbabwe            Soya beans  2022             38177\n",
      "45432     Zimbabwe         Coffee, green  2022              2645\n",
      "45433     Zimbabwe                  Rice  2022              2144\n",
      "\n",
      "[45434 rows x 4 columns]\n"
     ]
    }
   ],
   "source": [
    "# Sum of each crop by country and year\n",
    "query = \"\"\"\n",
    "SELECT Area, Item, Year, SUM(Value) AS Total_Production\n",
    "FROM qcl\n",
    "GROUP BY Area, Item, Year\n",
    "ORDER BY Area, Year, Total_Production DESC\n",
    "\"\"\"\n",
    "\n",
    "crop_production_by_year = pd.read_sql(query, con=engine)\n",
    "\n",
    "print(crop_production_by_year)"
   ]
  },
  {
   "cell_type": "code",
   "execution_count": 6,
   "id": "1dc83af2-ab23-4240-87ab-d0480bbdf40f",
   "metadata": {},
   "outputs": [
    {
     "name": "stdout",
     "output_type": "stream",
     "text": [
      "   total_land_area  total_agricultural_land  total_other_land  \\\n",
      "0     1.301516e+07             4.797674e+06      4.159900e+06   \n",
      "\n",
      "   total_forest_land  total_unaccounted  total_cropland  total_pastures  \\\n",
      "0       4.048946e+06          8641.2704    1.573345e+06      3207689.78   \n",
      "\n",
      "   total_farm_buildings  \n",
      "0            16639.1134  \n"
     ]
    }
   ],
   "source": [
    "# SQL query\n",
    "query = \"\"\"\n",
    "SELECT \n",
    "    SUM([Land area]) AS total_land_area,\n",
    "    SUM(Cropland + [Permanent meadows and pastures] + [Farm buildings and Farmyards]) AS total_agricultural_land,\n",
    "    SUM([Other land]) AS total_other_land,\n",
    "    SUM([Forest land]) AS total_forest_land,\n",
    "    SUM(Unaccounted) AS total_unaccounted,\n",
    "    SUM(Cropland) AS total_cropland,\n",
    "    SUM([Permanent meadows and pastures]) AS total_pastures,\n",
    "    SUM([Farm buildings and Farmyards]) AS total_farm_buildings\n",
    "FROM rl\n",
    "WHERE Year = 2022;\n",
    "\"\"\"\n",
    "\n",
    "# Execute the query and load the result into a DataFrame\n",
    "result = pd.read_sql(query, con=engine)\n",
    "\n",
    "# Display the result\n",
    "print(result)"
   ]
  },
  {
   "cell_type": "code",
   "execution_count": 8,
   "id": "bed655f5-1e60-4420-b3ca-1b6b5002acf1",
   "metadata": {},
   "outputs": [],
   "source": [
    "# Values for the chart\n",
    "total_land_area = result['total_land_area'].values[0]\n",
    "total_agricultural_land = result['total_agricultural_land'].values[0]\n",
    "total_other_land = result['total_other_land'].values[0]\n",
    "total_forest_land = result['total_forest_land'].values[0]\n",
    "total_unaccounted = result['total_unaccounted'].values[0]\n",
    "total_cropland = result['total_cropland'].values[0]\n",
    "total_pastures = result['total_pastures'].values[0]\n",
    "total_farm_buildings = result['total_farm_buildings'].values[0]"
   ]
  },
  {
   "cell_type": "code",
   "execution_count": 13,
   "id": "e4590ac1-9474-445d-97af-90907367f921",
   "metadata": {},
   "outputs": [
    {
     "data": {
      "application/vnd.plotly.v1+json": {
       "config": {
        "plotlyServerURL": "https://plot.ly"
       },
       "data": [
        {
         "hovertemplate": "<br>Cropland<br>%{x:.2f}%<extra></extra>",
         "marker": {
          "color": "lightgreen"
         },
         "name": "Cropland (12.09%)",
         "orientation": "h",
         "type": "bar",
         "x": [
          12.088555474315573
         ],
         "y": [
          "Agricultural Breakdown"
         ]
        },
        {
         "base": 12.088555474315573,
         "hovertemplate": "<br>Pastures<br>%{x:.2f}%<extra></extra>",
         "marker": {
          "color": "yellowgreen"
         },
         "name": "Pastures (24.65%)",
         "orientation": "h",
         "type": "bar",
         "x": [
          24.645792598585178
         ],
         "y": [
          "Agricultural Breakdown"
         ]
        },
        {
         "base": 36.73434807290075,
         "hovertemplate": "<br>Farm Buildings<br>%{x:.2f}%<extra></extra>",
         "marker": {
          "color": "darkgreen"
         },
         "name": "Farm Buildings (0.13%)",
         "orientation": "h",
         "type": "bar",
         "x": [
          0.1278440765804789
         ],
         "y": [
          "Agricultural Breakdown"
         ]
        },
        {
         "hovertemplate": "<br>Agricultural Land<br>%{x:.2f}%<extra></extra>",
         "marker": {
          "color": "green"
         },
         "name": "Agricultural Land (36.86%)",
         "orientation": "h",
         "type": "bar",
         "x": [
          36.86219214948123
         ],
         "y": [
          "Land Breakdown"
         ]
        },
        {
         "base": 36.86219214948123,
         "hovertemplate": "<br>Forest Land<br>%{x:.2f}%<extra></extra>",
         "marker": {
          "color": "darkseagreen"
         },
         "name": "Forest Land (31.11%)",
         "orientation": "h",
         "type": "bar",
         "x": [
          31.10945680553876
         ],
         "y": [
          "Land Breakdown"
         ]
        },
        {
         "base": 67.97164895501999,
         "hovertemplate": "<br>Other Land (habitable, infrastructure, glaciers, deserts, etc.)<br>%{x:.2f}%<extra></extra>",
         "marker": {
          "color": "khaki"
         },
         "name": "Other Land (31.96%)",
         "orientation": "h",
         "type": "bar",
         "x": [
          31.96195716880328
         ],
         "y": [
          "Land Breakdown"
         ]
        },
        {
         "base": 99.93360612382327,
         "hovertemplate": "<br>Unaccounted<br>%{x:.2f}%<extra></extra>",
         "marker": {
          "color": "gray"
         },
         "name": "Unaccounted Land (0.07%)",
         "orientation": "h",
         "type": "bar",
         "x": [
          0.06639387617673237
         ],
         "y": [
          "Land Breakdown"
         ]
        },
        {
         "hovertemplate": "<br>Total Land<br>%{x:.2f}%<extra></extra>",
         "marker": {
          "color": "tan"
         },
         "name": "Total Land Area (100%)",
         "orientation": "h",
         "type": "bar",
         "x": [
          100
         ],
         "y": [
          "Total Land Area"
         ]
        }
       ],
       "layout": {
        "autosize": true,
        "barmode": "stack",
        "showlegend": true,
        "template": {
         "data": {
          "bar": [
           {
            "error_x": {
             "color": "#2a3f5f"
            },
            "error_y": {
             "color": "#2a3f5f"
            },
            "marker": {
             "line": {
              "color": "#E5ECF6",
              "width": 0.5
             },
             "pattern": {
              "fillmode": "overlay",
              "size": 10,
              "solidity": 0.2
             }
            },
            "type": "bar"
           }
          ],
          "barpolar": [
           {
            "marker": {
             "line": {
              "color": "#E5ECF6",
              "width": 0.5
             },
             "pattern": {
              "fillmode": "overlay",
              "size": 10,
              "solidity": 0.2
             }
            },
            "type": "barpolar"
           }
          ],
          "carpet": [
           {
            "aaxis": {
             "endlinecolor": "#2a3f5f",
             "gridcolor": "white",
             "linecolor": "white",
             "minorgridcolor": "white",
             "startlinecolor": "#2a3f5f"
            },
            "baxis": {
             "endlinecolor": "#2a3f5f",
             "gridcolor": "white",
             "linecolor": "white",
             "minorgridcolor": "white",
             "startlinecolor": "#2a3f5f"
            },
            "type": "carpet"
           }
          ],
          "choropleth": [
           {
            "colorbar": {
             "outlinewidth": 0,
             "ticks": ""
            },
            "type": "choropleth"
           }
          ],
          "contour": [
           {
            "colorbar": {
             "outlinewidth": 0,
             "ticks": ""
            },
            "colorscale": [
             [
              0,
              "#0d0887"
             ],
             [
              0.1111111111111111,
              "#46039f"
             ],
             [
              0.2222222222222222,
              "#7201a8"
             ],
             [
              0.3333333333333333,
              "#9c179e"
             ],
             [
              0.4444444444444444,
              "#bd3786"
             ],
             [
              0.5555555555555556,
              "#d8576b"
             ],
             [
              0.6666666666666666,
              "#ed7953"
             ],
             [
              0.7777777777777778,
              "#fb9f3a"
             ],
             [
              0.8888888888888888,
              "#fdca26"
             ],
             [
              1,
              "#f0f921"
             ]
            ],
            "type": "contour"
           }
          ],
          "contourcarpet": [
           {
            "colorbar": {
             "outlinewidth": 0,
             "ticks": ""
            },
            "type": "contourcarpet"
           }
          ],
          "heatmap": [
           {
            "colorbar": {
             "outlinewidth": 0,
             "ticks": ""
            },
            "colorscale": [
             [
              0,
              "#0d0887"
             ],
             [
              0.1111111111111111,
              "#46039f"
             ],
             [
              0.2222222222222222,
              "#7201a8"
             ],
             [
              0.3333333333333333,
              "#9c179e"
             ],
             [
              0.4444444444444444,
              "#bd3786"
             ],
             [
              0.5555555555555556,
              "#d8576b"
             ],
             [
              0.6666666666666666,
              "#ed7953"
             ],
             [
              0.7777777777777778,
              "#fb9f3a"
             ],
             [
              0.8888888888888888,
              "#fdca26"
             ],
             [
              1,
              "#f0f921"
             ]
            ],
            "type": "heatmap"
           }
          ],
          "heatmapgl": [
           {
            "colorbar": {
             "outlinewidth": 0,
             "ticks": ""
            },
            "colorscale": [
             [
              0,
              "#0d0887"
             ],
             [
              0.1111111111111111,
              "#46039f"
             ],
             [
              0.2222222222222222,
              "#7201a8"
             ],
             [
              0.3333333333333333,
              "#9c179e"
             ],
             [
              0.4444444444444444,
              "#bd3786"
             ],
             [
              0.5555555555555556,
              "#d8576b"
             ],
             [
              0.6666666666666666,
              "#ed7953"
             ],
             [
              0.7777777777777778,
              "#fb9f3a"
             ],
             [
              0.8888888888888888,
              "#fdca26"
             ],
             [
              1,
              "#f0f921"
             ]
            ],
            "type": "heatmapgl"
           }
          ],
          "histogram": [
           {
            "marker": {
             "pattern": {
              "fillmode": "overlay",
              "size": 10,
              "solidity": 0.2
             }
            },
            "type": "histogram"
           }
          ],
          "histogram2d": [
           {
            "colorbar": {
             "outlinewidth": 0,
             "ticks": ""
            },
            "colorscale": [
             [
              0,
              "#0d0887"
             ],
             [
              0.1111111111111111,
              "#46039f"
             ],
             [
              0.2222222222222222,
              "#7201a8"
             ],
             [
              0.3333333333333333,
              "#9c179e"
             ],
             [
              0.4444444444444444,
              "#bd3786"
             ],
             [
              0.5555555555555556,
              "#d8576b"
             ],
             [
              0.6666666666666666,
              "#ed7953"
             ],
             [
              0.7777777777777778,
              "#fb9f3a"
             ],
             [
              0.8888888888888888,
              "#fdca26"
             ],
             [
              1,
              "#f0f921"
             ]
            ],
            "type": "histogram2d"
           }
          ],
          "histogram2dcontour": [
           {
            "colorbar": {
             "outlinewidth": 0,
             "ticks": ""
            },
            "colorscale": [
             [
              0,
              "#0d0887"
             ],
             [
              0.1111111111111111,
              "#46039f"
             ],
             [
              0.2222222222222222,
              "#7201a8"
             ],
             [
              0.3333333333333333,
              "#9c179e"
             ],
             [
              0.4444444444444444,
              "#bd3786"
             ],
             [
              0.5555555555555556,
              "#d8576b"
             ],
             [
              0.6666666666666666,
              "#ed7953"
             ],
             [
              0.7777777777777778,
              "#fb9f3a"
             ],
             [
              0.8888888888888888,
              "#fdca26"
             ],
             [
              1,
              "#f0f921"
             ]
            ],
            "type": "histogram2dcontour"
           }
          ],
          "mesh3d": [
           {
            "colorbar": {
             "outlinewidth": 0,
             "ticks": ""
            },
            "type": "mesh3d"
           }
          ],
          "parcoords": [
           {
            "line": {
             "colorbar": {
              "outlinewidth": 0,
              "ticks": ""
             }
            },
            "type": "parcoords"
           }
          ],
          "pie": [
           {
            "automargin": true,
            "type": "pie"
           }
          ],
          "scatter": [
           {
            "fillpattern": {
             "fillmode": "overlay",
             "size": 10,
             "solidity": 0.2
            },
            "type": "scatter"
           }
          ],
          "scatter3d": [
           {
            "line": {
             "colorbar": {
              "outlinewidth": 0,
              "ticks": ""
             }
            },
            "marker": {
             "colorbar": {
              "outlinewidth": 0,
              "ticks": ""
             }
            },
            "type": "scatter3d"
           }
          ],
          "scattercarpet": [
           {
            "marker": {
             "colorbar": {
              "outlinewidth": 0,
              "ticks": ""
             }
            },
            "type": "scattercarpet"
           }
          ],
          "scattergeo": [
           {
            "marker": {
             "colorbar": {
              "outlinewidth": 0,
              "ticks": ""
             }
            },
            "type": "scattergeo"
           }
          ],
          "scattergl": [
           {
            "marker": {
             "colorbar": {
              "outlinewidth": 0,
              "ticks": ""
             }
            },
            "type": "scattergl"
           }
          ],
          "scattermapbox": [
           {
            "marker": {
             "colorbar": {
              "outlinewidth": 0,
              "ticks": ""
             }
            },
            "type": "scattermapbox"
           }
          ],
          "scatterpolar": [
           {
            "marker": {
             "colorbar": {
              "outlinewidth": 0,
              "ticks": ""
             }
            },
            "type": "scatterpolar"
           }
          ],
          "scatterpolargl": [
           {
            "marker": {
             "colorbar": {
              "outlinewidth": 0,
              "ticks": ""
             }
            },
            "type": "scatterpolargl"
           }
          ],
          "scatterternary": [
           {
            "marker": {
             "colorbar": {
              "outlinewidth": 0,
              "ticks": ""
             }
            },
            "type": "scatterternary"
           }
          ],
          "surface": [
           {
            "colorbar": {
             "outlinewidth": 0,
             "ticks": ""
            },
            "colorscale": [
             [
              0,
              "#0d0887"
             ],
             [
              0.1111111111111111,
              "#46039f"
             ],
             [
              0.2222222222222222,
              "#7201a8"
             ],
             [
              0.3333333333333333,
              "#9c179e"
             ],
             [
              0.4444444444444444,
              "#bd3786"
             ],
             [
              0.5555555555555556,
              "#d8576b"
             ],
             [
              0.6666666666666666,
              "#ed7953"
             ],
             [
              0.7777777777777778,
              "#fb9f3a"
             ],
             [
              0.8888888888888888,
              "#fdca26"
             ],
             [
              1,
              "#f0f921"
             ]
            ],
            "type": "surface"
           }
          ],
          "table": [
           {
            "cells": {
             "fill": {
              "color": "#EBF0F8"
             },
             "line": {
              "color": "white"
             }
            },
            "header": {
             "fill": {
              "color": "#C8D4E3"
             },
             "line": {
              "color": "white"
             }
            },
            "type": "table"
           }
          ]
         },
         "layout": {
          "annotationdefaults": {
           "arrowcolor": "#2a3f5f",
           "arrowhead": 0,
           "arrowwidth": 1
          },
          "autotypenumbers": "strict",
          "coloraxis": {
           "colorbar": {
            "outlinewidth": 0,
            "ticks": ""
           }
          },
          "colorscale": {
           "diverging": [
            [
             0,
             "#8e0152"
            ],
            [
             0.1,
             "#c51b7d"
            ],
            [
             0.2,
             "#de77ae"
            ],
            [
             0.3,
             "#f1b6da"
            ],
            [
             0.4,
             "#fde0ef"
            ],
            [
             0.5,
             "#f7f7f7"
            ],
            [
             0.6,
             "#e6f5d0"
            ],
            [
             0.7,
             "#b8e186"
            ],
            [
             0.8,
             "#7fbc41"
            ],
            [
             0.9,
             "#4d9221"
            ],
            [
             1,
             "#276419"
            ]
           ],
           "sequential": [
            [
             0,
             "#0d0887"
            ],
            [
             0.1111111111111111,
             "#46039f"
            ],
            [
             0.2222222222222222,
             "#7201a8"
            ],
            [
             0.3333333333333333,
             "#9c179e"
            ],
            [
             0.4444444444444444,
             "#bd3786"
            ],
            [
             0.5555555555555556,
             "#d8576b"
            ],
            [
             0.6666666666666666,
             "#ed7953"
            ],
            [
             0.7777777777777778,
             "#fb9f3a"
            ],
            [
             0.8888888888888888,
             "#fdca26"
            ],
            [
             1,
             "#f0f921"
            ]
           ],
           "sequentialminus": [
            [
             0,
             "#0d0887"
            ],
            [
             0.1111111111111111,
             "#46039f"
            ],
            [
             0.2222222222222222,
             "#7201a8"
            ],
            [
             0.3333333333333333,
             "#9c179e"
            ],
            [
             0.4444444444444444,
             "#bd3786"
            ],
            [
             0.5555555555555556,
             "#d8576b"
            ],
            [
             0.6666666666666666,
             "#ed7953"
            ],
            [
             0.7777777777777778,
             "#fb9f3a"
            ],
            [
             0.8888888888888888,
             "#fdca26"
            ],
            [
             1,
             "#f0f921"
            ]
           ]
          },
          "colorway": [
           "#636efa",
           "#EF553B",
           "#00cc96",
           "#ab63fa",
           "#FFA15A",
           "#19d3f3",
           "#FF6692",
           "#B6E880",
           "#FF97FF",
           "#FECB52"
          ],
          "font": {
           "color": "#2a3f5f"
          },
          "geo": {
           "bgcolor": "white",
           "lakecolor": "white",
           "landcolor": "#E5ECF6",
           "showlakes": true,
           "showland": true,
           "subunitcolor": "white"
          },
          "hoverlabel": {
           "align": "left"
          },
          "hovermode": "closest",
          "mapbox": {
           "style": "light"
          },
          "paper_bgcolor": "white",
          "plot_bgcolor": "#E5ECF6",
          "polar": {
           "angularaxis": {
            "gridcolor": "white",
            "linecolor": "white",
            "ticks": ""
           },
           "bgcolor": "#E5ECF6",
           "radialaxis": {
            "gridcolor": "white",
            "linecolor": "white",
            "ticks": ""
           }
          },
          "scene": {
           "xaxis": {
            "backgroundcolor": "#E5ECF6",
            "gridcolor": "white",
            "gridwidth": 2,
            "linecolor": "white",
            "showbackground": true,
            "ticks": "",
            "zerolinecolor": "white"
           },
           "yaxis": {
            "backgroundcolor": "#E5ECF6",
            "gridcolor": "white",
            "gridwidth": 2,
            "linecolor": "white",
            "showbackground": true,
            "ticks": "",
            "zerolinecolor": "white"
           },
           "zaxis": {
            "backgroundcolor": "#E5ECF6",
            "gridcolor": "white",
            "gridwidth": 2,
            "linecolor": "white",
            "showbackground": true,
            "ticks": "",
            "zerolinecolor": "white"
           }
          },
          "shapedefaults": {
           "line": {
            "color": "#2a3f5f"
           }
          },
          "ternary": {
           "aaxis": {
            "gridcolor": "white",
            "linecolor": "white",
            "ticks": ""
           },
           "baxis": {
            "gridcolor": "white",
            "linecolor": "white",
            "ticks": ""
           },
           "bgcolor": "#E5ECF6",
           "caxis": {
            "gridcolor": "white",
            "linecolor": "white",
            "ticks": ""
           }
          },
          "title": {
           "x": 0.05
          },
          "xaxis": {
           "automargin": true,
           "gridcolor": "white",
           "linecolor": "white",
           "ticks": "",
           "title": {
            "standoff": 15
           },
           "zerolinecolor": "white",
           "zerolinewidth": 2
          },
          "yaxis": {
           "automargin": true,
           "gridcolor": "white",
           "linecolor": "white",
           "ticks": "",
           "title": {
            "standoff": 15
           },
           "zerolinecolor": "white",
           "zerolinewidth": 2
          }
         }
        },
        "title": {
         "text": "Global Land Use Breakdown, 2022"
        },
        "xaxis": {
         "autorange": true,
         "range": [
          0,
          105.26315789473685
         ],
         "type": "linear"
        },
        "yaxis": {
         "autorange": true,
         "range": [
          -0.5,
          2.5
         ],
         "type": "category"
        }
       }
      },
      "image/png": "[encoded data removed]",
      "text/html": [
       "<div>                            <div id=\"f56da02d-672e-42b5-8d3f-d6befab0f31a\" class=\"plotly-graph-div\" style=\"height:525px; width:100%;\"></div>            <script type=\"text/javascript\">                require([\"plotly\"], function(Plotly) {                    window.PLOTLYENV=window.PLOTLYENV || {};                                    if (document.getElementById(\"f56da02d-672e-42b5-8d3f-d6befab0f31a\")) {                    Plotly.newPlot(                        \"f56da02d-672e-42b5-8d3f-d6befab0f31a\",                        [{\"hovertemplate\":\"\\u003cbr\\u003eCropland\\u003cbr\\u003e%{x:.2f}%\\u003cextra\\u003e\\u003c\\u002fextra\\u003e\",\"marker\":{\"color\":\"lightgreen\"},\"name\":\"Cropland (12.09%)\",\"orientation\":\"h\",\"x\":[12.088555474315573],\"y\":[\"Agricultural Breakdown\"],\"type\":\"bar\"},{\"base\":12.088555474315573,\"hovertemplate\":\"\\u003cbr\\u003ePastures\\u003cbr\\u003e%{x:.2f}%\\u003cextra\\u003e\\u003c\\u002fextra\\u003e\",\"marker\":{\"color\":\"yellowgreen\"},\"name\":\"Pastures (24.65%)\",\"orientation\":\"h\",\"x\":[24.645792598585178],\"y\":[\"Agricultural Breakdown\"],\"type\":\"bar\"},{\"base\":36.73434807290075,\"hovertemplate\":\"\\u003cbr\\u003eFarm Buildings\\u003cbr\\u003e%{x:.2f}%\\u003cextra\\u003e\\u003c\\u002fextra\\u003e\",\"marker\":{\"color\":\"darkgreen\"},\"name\":\"Farm Buildings (0.13%)\",\"orientation\":\"h\",\"x\":[0.1278440765804789],\"y\":[\"Agricultural Breakdown\"],\"type\":\"bar\"},{\"hovertemplate\":\"\\u003cbr\\u003eAgricultural Land\\u003cbr\\u003e%{x:.2f}%\\u003cextra\\u003e\\u003c\\u002fextra\\u003e\",\"marker\":{\"color\":\"green\"},\"name\":\"Agricultural Land (36.86%)\",\"orientation\":\"h\",\"x\":[36.86219214948123],\"y\":[\"Land Breakdown\"],\"type\":\"bar\"},{\"base\":36.86219214948123,\"hovertemplate\":\"\\u003cbr\\u003eForest Land\\u003cbr\\u003e%{x:.2f}%\\u003cextra\\u003e\\u003c\\u002fextra\\u003e\",\"marker\":{\"color\":\"darkseagreen\"},\"name\":\"Forest Land (31.11%)\",\"orientation\":\"h\",\"x\":[31.10945680553876],\"y\":[\"Land Breakdown\"],\"type\":\"bar\"},{\"base\":67.97164895501999,\"hovertemplate\":\"\\u003cbr\\u003eOther Land (habitable, infrastructure, glaciers, deserts, etc.)\\u003cbr\\u003e%{x:.2f}%\\u003cextra\\u003e\\u003c\\u002fextra\\u003e\",\"marker\":{\"color\":\"khaki\"},\"name\":\"Other Land (31.96%)\",\"orientation\":\"h\",\"x\":[31.96195716880328],\"y\":[\"Land Breakdown\"],\"type\":\"bar\"},{\"base\":99.93360612382327,\"hovertemplate\":\"\\u003cbr\\u003eUnaccounted\\u003cbr\\u003e%{x:.2f}%\\u003cextra\\u003e\\u003c\\u002fextra\\u003e\",\"marker\":{\"color\":\"gray\"},\"name\":\"Unaccounted Land (0.07%)\",\"orientation\":\"h\",\"x\":[0.06639387617673237],\"y\":[\"Land Breakdown\"],\"type\":\"bar\"},{\"hovertemplate\":\"\\u003cbr\\u003eTotal Land\\u003cbr\\u003e%{x:.2f}%\\u003cextra\\u003e\\u003c\\u002fextra\\u003e\",\"marker\":{\"color\":\"tan\"},\"name\":\"Total Land Area (100%)\",\"orientation\":\"h\",\"x\":[100],\"y\":[\"Total Land Area\"],\"type\":\"bar\"}],                        {\"template\":{\"data\":{\"histogram2dcontour\":[{\"type\":\"histogram2dcontour\",\"colorbar\":{\"outlinewidth\":0,\"ticks\":\"\"},\"colorscale\":[[0.0,\"#0d0887\"],[0.1111111111111111,\"#46039f\"],[0.2222222222222222,\"#7201a8\"],[0.3333333333333333,\"#9c179e\"],[0.4444444444444444,\"#bd3786\"],[0.5555555555555556,\"#d8576b\"],[0.6666666666666666,\"#ed7953\"],[0.7777777777777778,\"#fb9f3a\"],[0.8888888888888888,\"#fdca26\"],[1.0,\"#f0f921\"]]}],\"choropleth\":[{\"type\":\"choropleth\",\"colorbar\":{\"outlinewidth\":0,\"ticks\":\"\"}}],\"histogram2d\":[{\"type\":\"histogram2d\",\"colorbar\":{\"outlinewidth\":0,\"ticks\":\"\"},\"colorscale\":[[0.0,\"#0d0887\"],[0.1111111111111111,\"#46039f\"],[0.2222222222222222,\"#7201a8\"],[0.3333333333333333,\"#9c179e\"],[0.4444444444444444,\"#bd3786\"],[0.5555555555555556,\"#d8576b\"],[0.6666666666666666,\"#ed7953\"],[0.7777777777777778,\"#fb9f3a\"],[0.8888888888888888,\"#fdca26\"],[1.0,\"#f0f921\"]]}],\"heatmap\":[{\"type\":\"heatmap\",\"colorbar\":{\"outlinewidth\":0,\"ticks\":\"\"},\"colorscale\":[[0.0,\"#0d0887\"],[0.1111111111111111,\"#46039f\"],[0.2222222222222222,\"#7201a8\"],[0.3333333333333333,\"#9c179e\"],[0.4444444444444444,\"#bd3786\"],[0.5555555555555556,\"#d8576b\"],[0.6666666666666666,\"#ed7953\"],[0.7777777777777778,\"#fb9f3a\"],[0.8888888888888888,\"#fdca26\"],[1.0,\"#f0f921\"]]}],\"heatmapgl\":[{\"type\":\"heatmapgl\",\"colorbar\":{\"outlinewidth\":0,\"ticks\":\"\"},\"colorscale\":[[0.0,\"#0d0887\"],[0.1111111111111111,\"#46039f\"],[0.2222222222222222,\"#7201a8\"],[0.3333333333333333,\"#9c179e\"],[0.4444444444444444,\"#bd3786\"],[0.5555555555555556,\"#d8576b\"],[0.6666666666666666,\"#ed7953\"],[0.7777777777777778,\"#fb9f3a\"],[0.8888888888888888,\"#fdca26\"],[1.0,\"#f0f921\"]]}],\"contourcarpet\":[{\"type\":\"contourcarpet\",\"colorbar\":{\"outlinewidth\":0,\"ticks\":\"\"}}],\"contour\":[{\"type\":\"contour\",\"colorbar\":{\"outlinewidth\":0,\"ticks\":\"\"},\"colorscale\":[[0.0,\"#0d0887\"],[0.1111111111111111,\"#46039f\"],[0.2222222222222222,\"#7201a8\"],[0.3333333333333333,\"#9c179e\"],[0.4444444444444444,\"#bd3786\"],[0.5555555555555556,\"#d8576b\"],[0.6666666666666666,\"#ed7953\"],[0.7777777777777778,\"#fb9f3a\"],[0.8888888888888888,\"#fdca26\"],[1.0,\"#f0f921\"]]}],\"surface\":[{\"type\":\"surface\",\"colorbar\":{\"outlinewidth\":0,\"ticks\":\"\"},\"colorscale\":[[0.0,\"#0d0887\"],[0.1111111111111111,\"#46039f\"],[0.2222222222222222,\"#7201a8\"],[0.3333333333333333,\"#9c179e\"],[0.4444444444444444,\"#bd3786\"],[0.5555555555555556,\"#d8576b\"],[0.6666666666666666,\"#ed7953\"],[0.7777777777777778,\"#fb9f3a\"],[0.8888888888888888,\"#fdca26\"],[1.0,\"#f0f921\"]]}],\"mesh3d\":[{\"type\":\"mesh3d\",\"colorbar\":{\"outlinewidth\":0,\"ticks\":\"\"}}],\"scatter\":[{\"fillpattern\":{\"fillmode\":\"overlay\",\"size\":10,\"solidity\":0.2},\"type\":\"scatter\"}],\"parcoords\":[{\"type\":\"parcoords\",\"line\":{\"colorbar\":{\"outlinewidth\":0,\"ticks\":\"\"}}}],\"scatterpolargl\":[{\"type\":\"scatterpolargl\",\"marker\":{\"colorbar\":{\"outlinewidth\":0,\"ticks\":\"\"}}}],\"bar\":[{\"error_x\":{\"color\":\"#2a3f5f\"},\"error_y\":{\"color\":\"#2a3f5f\"},\"marker\":{\"line\":{\"color\":\"#E5ECF6\",\"width\":0.5},\"pattern\":{\"fillmode\":\"overlay\",\"size\":10,\"solidity\":0.2}},\"type\":\"bar\"}],\"scattergeo\":[{\"type\":\"scattergeo\",\"marker\":{\"colorbar\":{\"outlinewidth\":0,\"ticks\":\"\"}}}],\"scatterpolar\":[{\"type\":\"scatterpolar\",\"marker\":{\"colorbar\":{\"outlinewidth\":0,\"ticks\":\"\"}}}],\"histogram\":[{\"marker\":{\"pattern\":{\"fillmode\":\"overlay\",\"size\":10,\"solidity\":0.2}},\"type\":\"histogram\"}],\"scattergl\":[{\"type\":\"scattergl\",\"marker\":{\"colorbar\":{\"outlinewidth\":0,\"ticks\":\"\"}}}],\"scatter3d\":[{\"type\":\"scatter3d\",\"line\":{\"colorbar\":{\"outlinewidth\":0,\"ticks\":\"\"}},\"marker\":{\"colorbar\":{\"outlinewidth\":0,\"ticks\":\"\"}}}],\"scattermapbox\":[{\"type\":\"scattermapbox\",\"marker\":{\"colorbar\":{\"outlinewidth\":0,\"ticks\":\"\"}}}],\"scatterternary\":[{\"type\":\"scatterternary\",\"marker\":{\"colorbar\":{\"outlinewidth\":0,\"ticks\":\"\"}}}],\"scattercarpet\":[{\"type\":\"scattercarpet\",\"marker\":{\"colorbar\":{\"outlinewidth\":0,\"ticks\":\"\"}}}],\"carpet\":[{\"aaxis\":{\"endlinecolor\":\"#2a3f5f\",\"gridcolor\":\"white\",\"linecolor\":\"white\",\"minorgridcolor\":\"white\",\"startlinecolor\":\"#2a3f5f\"},\"baxis\":{\"endlinecolor\":\"#2a3f5f\",\"gridcolor\":\"white\",\"linecolor\":\"white\",\"minorgridcolor\":\"white\",\"startlinecolor\":\"#2a3f5f\"},\"type\":\"carpet\"}],\"table\":[{\"cells\":{\"fill\":{\"color\":\"#EBF0F8\"},\"line\":{\"color\":\"white\"}},\"header\":{\"fill\":{\"color\":\"#C8D4E3\"},\"line\":{\"color\":\"white\"}},\"type\":\"table\"}],\"barpolar\":[{\"marker\":{\"line\":{\"color\":\"#E5ECF6\",\"width\":0.5},\"pattern\":{\"fillmode\":\"overlay\",\"size\":10,\"solidity\":0.2}},\"type\":\"barpolar\"}],\"pie\":[{\"automargin\":true,\"type\":\"pie\"}]},\"layout\":{\"autotypenumbers\":\"strict\",\"colorway\":[\"#636efa\",\"#EF553B\",\"#00cc96\",\"#ab63fa\",\"#FFA15A\",\"#19d3f3\",\"#FF6692\",\"#B6E880\",\"#FF97FF\",\"#FECB52\"],\"font\":{\"color\":\"#2a3f5f\"},\"hovermode\":\"closest\",\"hoverlabel\":{\"align\":\"left\"},\"paper_bgcolor\":\"white\",\"plot_bgcolor\":\"#E5ECF6\",\"polar\":{\"bgcolor\":\"#E5ECF6\",\"angularaxis\":{\"gridcolor\":\"white\",\"linecolor\":\"white\",\"ticks\":\"\"},\"radialaxis\":{\"gridcolor\":\"white\",\"linecolor\":\"white\",\"ticks\":\"\"}},\"ternary\":{\"bgcolor\":\"#E5ECF6\",\"aaxis\":{\"gridcolor\":\"white\",\"linecolor\":\"white\",\"ticks\":\"\"},\"baxis\":{\"gridcolor\":\"white\",\"linecolor\":\"white\",\"ticks\":\"\"},\"caxis\":{\"gridcolor\":\"white\",\"linecolor\":\"white\",\"ticks\":\"\"}},\"coloraxis\":{\"colorbar\":{\"outlinewidth\":0,\"ticks\":\"\"}},\"colorscale\":{\"sequential\":[[0.0,\"#0d0887\"],[0.1111111111111111,\"#46039f\"],[0.2222222222222222,\"#7201a8\"],[0.3333333333333333,\"#9c179e\"],[0.4444444444444444,\"#bd3786\"],[0.5555555555555556,\"#d8576b\"],[0.6666666666666666,\"#ed7953\"],[0.7777777777777778,\"#fb9f3a\"],[0.8888888888888888,\"#fdca26\"],[1.0,\"#f0f921\"]],\"sequentialminus\":[[0.0,\"#0d0887\"],[0.1111111111111111,\"#46039f\"],[0.2222222222222222,\"#7201a8\"],[0.3333333333333333,\"#9c179e\"],[0.4444444444444444,\"#bd3786\"],[0.5555555555555556,\"#d8576b\"],[0.6666666666666666,\"#ed7953\"],[0.7777777777777778,\"#fb9f3a\"],[0.8888888888888888,\"#fdca26\"],[1.0,\"#f0f921\"]],\"diverging\":[[0,\"#8e0152\"],[0.1,\"#c51b7d\"],[0.2,\"#de77ae\"],[0.3,\"#f1b6da\"],[0.4,\"#fde0ef\"],[0.5,\"#f7f7f7\"],[0.6,\"#e6f5d0\"],[0.7,\"#b8e186\"],[0.8,\"#7fbc41\"],[0.9,\"#4d9221\"],[1,\"#276419\"]]},\"xaxis\":{\"gridcolor\":\"white\",\"linecolor\":\"white\",\"ticks\":\"\",\"title\":{\"standoff\":15},\"zerolinecolor\":\"white\",\"automargin\":true,\"zerolinewidth\":2},\"yaxis\":{\"gridcolor\":\"white\",\"linecolor\":\"white\",\"ticks\":\"\",\"title\":{\"standoff\":15},\"zerolinecolor\":\"white\",\"automargin\":true,\"zerolinewidth\":2},\"scene\":{\"xaxis\":{\"backgroundcolor\":\"#E5ECF6\",\"gridcolor\":\"white\",\"linecolor\":\"white\",\"showbackground\":true,\"ticks\":\"\",\"zerolinecolor\":\"white\",\"gridwidth\":2},\"yaxis\":{\"backgroundcolor\":\"#E5ECF6\",\"gridcolor\":\"white\",\"linecolor\":\"white\",\"showbackground\":true,\"ticks\":\"\",\"zerolinecolor\":\"white\",\"gridwidth\":2},\"zaxis\":{\"backgroundcolor\":\"#E5ECF6\",\"gridcolor\":\"white\",\"linecolor\":\"white\",\"showbackground\":true,\"ticks\":\"\",\"zerolinecolor\":\"white\",\"gridwidth\":2}},\"shapedefaults\":{\"line\":{\"color\":\"#2a3f5f\"}},\"annotationdefaults\":{\"arrowcolor\":\"#2a3f5f\",\"arrowhead\":0,\"arrowwidth\":1},\"geo\":{\"bgcolor\":\"white\",\"landcolor\":\"#E5ECF6\",\"subunitcolor\":\"white\",\"showland\":true,\"showlakes\":true,\"lakecolor\":\"white\"},\"title\":{\"x\":0.05},\"mapbox\":{\"style\":\"light\"}}},\"title\":{\"text\":\"Global Land Use Breakdown, 2022\"},\"barmode\":\"stack\",\"showlegend\":true},                        {\"responsive\": true}                    ).then(function(){\n",
       "                            \n",
       "var gd = document.getElementById('f56da02d-672e-42b5-8d3f-d6befab0f31a');\n",
       "var x = new MutationObserver(function (mutations, observer) {{\n",
       "        var display = window.getComputedStyle(gd).display;\n",
       "        if (!display || display === 'none') {{\n",
       "            console.log([gd, 'removed!']);\n",
       "            Plotly.purge(gd);\n",
       "            observer.disconnect();\n",
       "        }}\n",
       "}});\n",
       "\n",
       "// Listen for the removal of the full notebook cells\n",
       "var notebookContainer = gd.closest('#notebook-container');\n",
       "if (notebookContainer) {{\n",
       "    x.observe(notebookContainer, {childList: true});\n",
       "}}\n",
       "\n",
       "// Listen for the clearing of the current output cell\n",
       "var outputEl = gd.closest('.output');\n",
       "if (outputEl) {{\n",
       "    x.observe(outputEl, {childList: true});\n",
       "}}\n",
       "\n",
       "                        })                };                });            </script>        </div>"
      ]
     },
     "metadata": {},
     "output_type": "display_data"
    }
   ],
   "source": [
    "# Percentages relative to the total land area\n",
    "def calc_percentage(value):\n",
    "    return (value / total_land_area) * 100\n",
    "\n",
    "# Land category percentages\n",
    "perc_cropland = calc_percentage(total_cropland)\n",
    "perc_pastures = calc_percentage(total_pastures)\n",
    "perc_farm_buildings = calc_percentage(total_farm_buildings)\n",
    "\n",
    "perc_agricultural_land = calc_percentage(total_agricultural_land)\n",
    "perc_forest_land = calc_percentage(total_forest_land)\n",
    "perc_other_land = calc_percentage(total_other_land)\n",
    "perc_unaccounted = calc_percentage(total_unaccounted)\n",
    "\n",
    "# Create figure\n",
    "fig = go.Figure()\n",
    "\n",
    "# Agricultural Breakdown (Cropland, Pastures, Farm Buildings as a percentage of total agricultural land)\n",
    "fig.add_trace(go.Bar(\n",
    "    y=['Agricultural Breakdown'],\n",
    "    x=[perc_cropland],\n",
    "    name=f'Cropland ({perc_cropland:.2f}%)',\n",
    "    orientation='h',\n",
    "    marker=dict(color='lightgreen'),\n",
    "    hovertemplate='<br>Cropland<br>%{x:.2f}%<extra></extra>'\n",
    "))\n",
    "\n",
    "fig.add_trace(go.Bar(\n",
    "    y=['Agricultural Breakdown'],\n",
    "    x=[perc_pastures],\n",
    "    name=f'Pastures ({perc_pastures:.2f}%)',\n",
    "    orientation='h',\n",
    "    marker=dict(color='yellowgreen'),\n",
    "    base=perc_cropland,\n",
    "    hovertemplate='<br>Pastures<br>%{x:.2f}%<extra></extra>'\n",
    "))\n",
    "\n",
    "fig.add_trace(go.Bar(\n",
    "    y=['Agricultural Breakdown'],\n",
    "    x=[perc_farm_buildings],\n",
    "    name=f'Farm Buildings ({perc_farm_buildings:.2f}%)',\n",
    "    orientation='h',\n",
    "    marker=dict(color='darkgreen'),\n",
    "    base=perc_cropland + perc_pastures,\n",
    "    hovertemplate='<br>Farm Buildings<br>%{x:.2f}%<extra></extra>'\n",
    "))\n",
    "\n",
    "# Land Breakdown (Agricultural Land, Forest, Other, Unaccounted as a percentage of total land area)\n",
    "fig.add_trace(go.Bar(\n",
    "    y=['Land Breakdown'],\n",
    "    x=[perc_agricultural_land],\n",
    "    name=f'Agricultural Land ({perc_agricultural_land:.2f}%)',\n",
    "    orientation='h',\n",
    "    marker=dict(color='green'),\n",
    "    hovertemplate='<br>Agricultural Land<br>%{x:.2f}%<extra></extra>'\n",
    "))\n",
    "\n",
    "fig.add_trace(go.Bar(\n",
    "    y=['Land Breakdown'],\n",
    "    x=[perc_forest_land],\n",
    "    name=f'Forest Land ({perc_forest_land:.2f}%)',\n",
    "    orientation='h',\n",
    "    marker=dict(color='darkseagreen'),\n",
    "    base=perc_agricultural_land,\n",
    "    hovertemplate='<br>Forest Land<br>%{x:.2f}%<extra></extra>'\n",
    "))\n",
    "\n",
    "fig.add_trace(go.Bar(\n",
    "    y=['Land Breakdown'],\n",
    "    x=[perc_other_land],\n",
    "    name=f'Other Land ({perc_other_land:.2f}%)',\n",
    "    orientation='h',\n",
    "    marker=dict(color='khaki'),\n",
    "    base=perc_agricultural_land + perc_forest_land,\n",
    "    hovertemplate='<br>Other Land (habitable, infrastructure, glaciers, deserts, etc.)<br>%{x:.2f}%<extra></extra>'\n",
    "))\n",
    "\n",
    "fig.add_trace(go.Bar(\n",
    "    y=['Land Breakdown'],\n",
    "    x=[perc_unaccounted],\n",
    "    name=f'Unaccounted Land ({perc_unaccounted:.2f}%)',\n",
    "    orientation='h',\n",
    "    marker=dict(color='gray'),\n",
    "    base=perc_agricultural_land + perc_forest_land + perc_other_land,\n",
    "    hovertemplate='<br>Unaccounted<br>%{x:.2f}%<extra></extra>'\n",
    "))\n",
    "\n",
    "# Total Land Area\n",
    "fig.add_trace(go.Bar(\n",
    "    y=['Total Land Area'],\n",
    "    x=[100],\n",
    "    name='Total Land Area (100%)',\n",
    "    orientation='h',\n",
    "    marker=dict(color='tan'),\n",
    "    hovertemplate='<br>Total Land<br>%{x:.2f}%<extra></extra>'\n",
    "))\n",
    "\n",
    "\n",
    "fig.update_layout(\n",
    "    title='Global Land Use Breakdown, 2022',\n",
    "    barmode='stack',\n",
    "    showlegend=True\n",
    ")\n",
    "\n",
    "\n",
    "fig.show()"
   ]
  },
  {
   "cell_type": "code",
   "execution_count": 16,
   "id": "bbb34853-15c0-4d39-976a-2a476b076eea",
   "metadata": {},
   "outputs": [],
   "source": [
    "# Update layout to specify size\n",
    "fig.update_layout(width=1200, height=600)  # Adjust the width and height as needed\n",
    "\n",
    "# Save the figure as an image\n",
    "fig.write_image('images/land_use_graph.png')"
   ]
  },
  {
   "cell_type": "code",
   "execution_count": 17,
   "id": "331bf020-5ffe-4b2b-9270-436c7ab79e92",
   "metadata": {},
   "outputs": [],
   "source": [
    "# Save the figure as an HTML file\n",
    "fig.write_html('images/land_use_graph.html')"
   ]
  },
  {
   "cell_type": "code",
   "execution_count": null,
   "id": "526e7a5f-3a20-424a-88c8-fd897d28341f",
   "metadata": {},
   "outputs": [],
   "source": []
  }
 ],
 "metadata": {
  "kernelspec": {
   "display_name": "Python 3 (ipykernel)",
   "language": "python",
   "name": "python3"
  },
  "language_info": {
   "codemirror_mode": {
    "name": "ipython",
    "version": 3
   },
   "file_extension": ".py",
   "mimetype": "text/x-python",
   "name": "python",
   "nbconvert_exporter": "python",
   "pygments_lexer": "ipython3",
   "version": "3.10.14"
  }
 },
 "nbformat": 4,
 "nbformat_minor": 5
}
