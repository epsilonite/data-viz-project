{
 "cells": [
  {
   "cell_type": "markdown",
   "id": "bcacb936-d84b-4115-b0ff-ff8e7e1a35ea",
   "metadata": {},
   "source": [
    "# Clean FAOSTAT Data\n",
    "---"
   ]
  },
  {
   "cell_type": "code",
   "execution_count": 2,
   "id": "5428914e-6ee3-4f0f-9da5-555ce5406174",
   "metadata": {},
   "outputs": [],
   "source": [
    "# Load dependencies\n",
    "import pandas as pd"
   ]
  },
  {
   "cell_type": "markdown",
   "id": "bfb74722-59ad-4fa3-81ca-6e8e576505bb",
   "metadata": {},
   "source": [
    "## Load Datasets\n",
    "---"
   ]
  },
  {
   "cell_type": "code",
   "execution_count": 3,
   "id": "4d4f8911-f61a-4907-ab84-770fd1977b08",
   "metadata": {},
   "outputs": [],
   "source": [
    "# List available datasets\n",
    "QCL_df = pd.read_csv('data/faostat/QCL_init.csv')\n",
    "RL_df = pd.read_csv('data/faostat/RL_init.csv')\n",
    "hist_df = pd.read_csv('data/faostat/history.csv')"
   ]
  },
  {
   "cell_type": "code",
   "execution_count": 4,
   "id": "9b8a5a47-6c8d-4975-bb8a-0bfddb5823d6",
   "metadata": {},
   "outputs": [
    {
     "data": {
      "text/plain": [
       "Index(['Former', 'Succession', 'Exists'], dtype='object')"
      ]
     },
     "execution_count": 4,
     "metadata": {},
     "output_type": "execute_result"
    }
   ],
   "source": [
    "hist_df.columns"
   ]
  },
  {
   "cell_type": "markdown",
   "id": "8e374f5b-bba6-440a-b45a-37af61d43000",
   "metadata": {},
   "source": [
    "## Clean QCL 'Area': Project historic data onto current countries\n",
    "---"
   ]
  },
  {
   "cell_type": "code",
   "execution_count": 5,
   "id": "c63fbdb2-d4a1-4e47-bc34-0ab58c8d2e90",
   "metadata": {},
   "outputs": [],
   "source": [
    "# add historic data to existing countries\n",
    "for i,row in hist_df.iterrows():\n",
    "    if row['Former'] in QCL_df.Area.unique():\n",
    "        for n in row['Succession']:\n",
    "            if n in QCL_df.Area.unique():\n",
    "                QCL_df.loc[n,'Value'] += QCL_df.loc[row['Former'],'Value']\n",
    "        # remove countries that no longer exist\n",
    "        if not row['Exists']: QCL_df.drop(QCL_df.index[QCL_df.Area==row['Former']], inplace = True)"
   ]
  },
  {
   "cell_type": "code",
   "execution_count": 6,
   "id": "55a093ad-1c43-4e1a-b6c8-37d3c3157994",
   "metadata": {},
   "outputs": [],
   "source": [
    "# remove 'China' ie. china (total) from data\n",
    "QCL_df.drop(QCL_df.index[QCL_df.Area=='China'], inplace = True)"
   ]
  },
  {
   "cell_type": "markdown",
   "id": "0ae84070-ee02-4ecd-9b12-cef89e98bc76",
   "metadata": {},
   "source": [
    "## Clean QCL 'Item': Merge 'Maize (corn)' and 'Green corn (maize)'\n",
    "---"
   ]
  },
  {
   "cell_type": "code",
   "execution_count": 7,
   "id": "fa0a0b9b-cbec-4f01-8c2e-1de112a92c25",
   "metadata": {},
   "outputs": [
    {
     "data": {
      "text/plain": [
       "Index(['Area', 'Item', 'Year', 'Unit', 'Value'], dtype='object')"
      ]
     },
     "execution_count": 7,
     "metadata": {},
     "output_type": "execute_result"
    }
   ],
   "source": [
    "QCL_df.columns"
   ]
  },
  {
   "cell_type": "code",
   "execution_count": 8,
   "id": "cc010c3e-e4b8-45eb-ad56-d60396e876b2",
   "metadata": {},
   "outputs": [
    {
     "data": {
      "text/plain": [
       "array(['Maize (corn)', 'Rice', 'Cattle and Buffaloes', 'Soya beans',\n",
       "       'Cocoa beans', 'Coffee, green', 'Oil palm fruit',\n",
       "       'Green corn (maize)'], dtype=object)"
      ]
     },
     "execution_count": 8,
     "metadata": {},
     "output_type": "execute_result"
    }
   ],
   "source": [
    "QCL_df.Item.unique()"
   ]
  },
  {
   "cell_type": "code",
   "execution_count": 9,
   "id": "d668ee2c-70b6-43c5-8502-424ab82d8864",
   "metadata": {},
   "outputs": [
    {
     "data": {
      "text/plain": [
       "Area     47868\n",
       "Item     47868\n",
       "Year     47868\n",
       "Unit     47868\n",
       "Value    47868\n",
       "dtype: int64"
      ]
     },
     "execution_count": 9,
     "metadata": {},
     "output_type": "execute_result"
    }
   ],
   "source": [
    "QCL_df.count()"
   ]
  },
  {
   "cell_type": "code",
   "execution_count": 10,
   "id": "82f51962-3e1f-4a80-a04c-7c2746c86b5d",
   "metadata": {},
   "outputs": [
    {
     "data": {
      "text/plain": [
       "Area     12035\n",
       "Item     12035\n",
       "Year     12035\n",
       "Unit     12035\n",
       "Value    12035\n",
       "dtype: int64"
      ]
     },
     "execution_count": 10,
     "metadata": {},
     "output_type": "execute_result"
    }
   ],
   "source": [
    "QCL_corn = QCL_df.loc[QCL_df.Item.isin(['Maize (corn)','Green corn (maize)'])]\n",
    "QCL_corn.count()"
   ]
  },
  {
   "cell_type": "code",
   "execution_count": 11,
   "id": "59e34427-5d3d-4ada-b5f1-0203317436cd",
   "metadata": {},
   "outputs": [
    {
     "data": {
      "text/plain": [
       "Area     35833\n",
       "Item     35833\n",
       "Year     35833\n",
       "Unit     35833\n",
       "Value    35833\n",
       "dtype: int64"
      ]
     },
     "execution_count": 11,
     "metadata": {},
     "output_type": "execute_result"
    }
   ],
   "source": [
    "QCL_else = QCL_df.loc[~QCL_df.Item.isin(['Maize (corn)','Green corn (maize)'])]\n",
    "QCL_else.count()"
   ]
  },
  {
   "cell_type": "code",
   "execution_count": 12,
   "id": "402b385f-de66-451a-848a-6e76357e31b4",
   "metadata": {},
   "outputs": [
    {
     "name": "stderr",
     "output_type": "stream",
     "text": [
      "C:\\Users\\b25ch\\AppData\\Local\\Temp\\ipykernel_19556\\1435106808.py:1: SettingWithCopyWarning: \n",
      "A value is trying to be set on a copy of a slice from a DataFrame.\n",
      "Try using .loc[row_indexer,col_indexer] = value instead\n",
      "\n",
      "See the caveats in the documentation: https://pandas.pydata.org/pandas-docs/stable/user_guide/indexing.html#returning-a-view-versus-a-copy\n",
      "  QCL_corn.loc[:,'AreaYear'] = [x+str(y) for x,y in zip(QCL_corn.Area,QCL_corn.Year)]\n"
     ]
    },
    {
     "data": {
      "text/html": [
       "<div>\n",
       "<style scoped>\n",
       "    .dataframe tbody tr th:only-of-type {\n",
       "        vertical-align: middle;\n",
       "    }\n",
       "\n",
       "    .dataframe tbody tr th {\n",
       "        vertical-align: top;\n",
       "    }\n",
       "\n",
       "    .dataframe thead th {\n",
       "        text-align: right;\n",
       "    }\n",
       "</style>\n",
       "<table border=\"1\" class=\"dataframe\">\n",
       "  <thead>\n",
       "    <tr style=\"text-align: right;\">\n",
       "      <th></th>\n",
       "      <th>Area</th>\n",
       "      <th>Item</th>\n",
       "      <th>Year</th>\n",
       "      <th>Unit</th>\n",
       "      <th>Value</th>\n",
       "      <th>AreaYear</th>\n",
       "    </tr>\n",
       "  </thead>\n",
       "  <tbody>\n",
       "    <tr>\n",
       "      <th>48816</th>\n",
       "      <td>Zimbabwe</td>\n",
       "      <td>Maize (corn)</td>\n",
       "      <td>2022</td>\n",
       "      <td>ha</td>\n",
       "      <td>1000000</td>\n",
       "      <td>Zimbabwe2022</td>\n",
       "    </tr>\n",
       "  </tbody>\n",
       "</table>\n",
       "</div>"
      ],
      "text/plain": [
       "           Area          Item  Year Unit    Value      AreaYear\n",
       "48816  Zimbabwe  Maize (corn)  2022   ha  1000000  Zimbabwe2022"
      ]
     },
     "execution_count": 12,
     "metadata": {},
     "output_type": "execute_result"
    }
   ],
   "source": [
    "QCL_corn.loc[:,'AreaYear'] = [x+str(y) for x,y in zip(QCL_corn.Area,QCL_corn.Year)]\n",
    "QCL_corn.tail(1)"
   ]
  },
  {
   "cell_type": "code",
   "execution_count": 13,
   "id": "4d5b985b-6a81-480b-a02d-09cc671cccc1",
   "metadata": {},
   "outputs": [
    {
     "data": {
      "text/html": [
       "<div>\n",
       "<style scoped>\n",
       "    .dataframe tbody tr th:only-of-type {\n",
       "        vertical-align: middle;\n",
       "    }\n",
       "\n",
       "    .dataframe tbody tr th {\n",
       "        vertical-align: top;\n",
       "    }\n",
       "\n",
       "    .dataframe thead th {\n",
       "        text-align: right;\n",
       "    }\n",
       "</style>\n",
       "<table border=\"1\" class=\"dataframe\">\n",
       "  <thead>\n",
       "    <tr style=\"text-align: right;\">\n",
       "      <th></th>\n",
       "      <th>Area</th>\n",
       "      <th>Item</th>\n",
       "      <th>Year</th>\n",
       "      <th>Unit</th>\n",
       "      <th>Value</th>\n",
       "    </tr>\n",
       "    <tr>\n",
       "      <th>AreaYear</th>\n",
       "      <th></th>\n",
       "      <th></th>\n",
       "      <th></th>\n",
       "      <th></th>\n",
       "      <th></th>\n",
       "    </tr>\n",
       "  </thead>\n",
       "  <tbody>\n",
       "    <tr>\n",
       "      <th>Zimbabwe2022</th>\n",
       "      <td>ZimbabweZimbabwe</td>\n",
       "      <td>Green corn (maize)Maize (corn)</td>\n",
       "      <td>4044</td>\n",
       "      <td>haha</td>\n",
       "      <td>1001819</td>\n",
       "    </tr>\n",
       "  </tbody>\n",
       "</table>\n",
       "</div>"
      ],
      "text/plain": [
       "                          Area                            Item  Year  Unit  \\\n",
       "AreaYear                                                                     \n",
       "Zimbabwe2022  ZimbabweZimbabwe  Green corn (maize)Maize (corn)  4044  haha   \n",
       "\n",
       "                Value  \n",
       "AreaYear               \n",
       "Zimbabwe2022  1001819  "
      ]
     },
     "execution_count": 13,
     "metadata": {},
     "output_type": "execute_result"
    }
   ],
   "source": [
    "QCL_corns = QCL_corn.groupby('AreaYear').sum()\n",
    "QCL_corns.tail(1)"
   ]
  },
  {
   "cell_type": "code",
   "execution_count": 14,
   "id": "d15ad5fc-8911-4c4b-9319-d7bf0581aa2d",
   "metadata": {},
   "outputs": [],
   "source": [
    "QCL_corna = QCL_corns.loc[QCL_corns.Unit=='ha']\n",
    "QCL_corna.loc[:,'Item'] = 'Green corn/Maize'\n",
    "QCL_corna = QCL_corna.reset_index()[['Area','Item','Year','Unit','Value']]"
   ]
  },
  {
   "cell_type": "code",
   "execution_count": 15,
   "id": "79095b60-049b-462f-ba0b-a633243dc783",
   "metadata": {},
   "outputs": [],
   "source": [
    "QCL_cornb = QCL_corns.loc[QCL_corns.Unit=='haha']\n",
    "QCL_cornb.loc[:,'Area'] = [s[0:len(s)-4] for s in QCL_cornb.index]\n",
    "QCL_cornb.loc[:,'Year'] = [int(s[len(s)-4:]) for s in QCL_cornb.index]\n",
    "QCL_cornb.loc[:,'Unit'] = 'ha'\n",
    "QCL_cornb.loc[:,'Item'] = 'Green corn/Maize'\n",
    "QCL_cornb = QCL_cornb.reset_index()[['Area','Item','Year','Unit','Value']]"
   ]
  },
  {
   "cell_type": "code",
   "execution_count": 16,
   "id": "23e35e55-4274-4362-bfb7-b751694f4c84",
   "metadata": {},
   "outputs": [
    {
     "data": {
      "text/html": [
       "<div>\n",
       "<style scoped>\n",
       "    .dataframe tbody tr th:only-of-type {\n",
       "        vertical-align: middle;\n",
       "    }\n",
       "\n",
       "    .dataframe tbody tr th {\n",
       "        vertical-align: top;\n",
       "    }\n",
       "\n",
       "    .dataframe thead th {\n",
       "        text-align: right;\n",
       "    }\n",
       "</style>\n",
       "<table border=\"1\" class=\"dataframe\">\n",
       "  <thead>\n",
       "    <tr style=\"text-align: right;\">\n",
       "      <th></th>\n",
       "      <th>Area</th>\n",
       "      <th>Item</th>\n",
       "      <th>Year</th>\n",
       "      <th>Unit</th>\n",
       "      <th>Value</th>\n",
       "    </tr>\n",
       "  </thead>\n",
       "  <tbody>\n",
       "    <tr>\n",
       "      <th>0</th>\n",
       "      <td>Australia</td>\n",
       "      <td>Green corn/Maize</td>\n",
       "      <td>1961</td>\n",
       "      <td>ha</td>\n",
       "      <td>75680</td>\n",
       "    </tr>\n",
       "    <tr>\n",
       "      <th>1</th>\n",
       "      <td>Australia</td>\n",
       "      <td>Green corn/Maize</td>\n",
       "      <td>1962</td>\n",
       "      <td>ha</td>\n",
       "      <td>86151</td>\n",
       "    </tr>\n",
       "    <tr>\n",
       "      <th>2</th>\n",
       "      <td>Australia</td>\n",
       "      <td>Green corn/Maize</td>\n",
       "      <td>1963</td>\n",
       "      <td>ha</td>\n",
       "      <td>85776</td>\n",
       "    </tr>\n",
       "    <tr>\n",
       "      <th>3</th>\n",
       "      <td>Australia</td>\n",
       "      <td>Green corn/Maize</td>\n",
       "      <td>1964</td>\n",
       "      <td>ha</td>\n",
       "      <td>88009</td>\n",
       "    </tr>\n",
       "    <tr>\n",
       "      <th>4</th>\n",
       "      <td>Australia</td>\n",
       "      <td>Green corn/Maize</td>\n",
       "      <td>1965</td>\n",
       "      <td>ha</td>\n",
       "      <td>87123</td>\n",
       "    </tr>\n",
       "    <tr>\n",
       "      <th>...</th>\n",
       "      <td>...</td>\n",
       "      <td>...</td>\n",
       "      <td>...</td>\n",
       "      <td>...</td>\n",
       "      <td>...</td>\n",
       "    </tr>\n",
       "    <tr>\n",
       "      <th>2429</th>\n",
       "      <td>Zimbabwe</td>\n",
       "      <td>Green corn/Maize</td>\n",
       "      <td>2018</td>\n",
       "      <td>ha</td>\n",
       "      <td>1156828</td>\n",
       "    </tr>\n",
       "    <tr>\n",
       "      <th>2430</th>\n",
       "      <td>Zimbabwe</td>\n",
       "      <td>Green corn/Maize</td>\n",
       "      <td>2019</td>\n",
       "      <td>ha</td>\n",
       "      <td>993170</td>\n",
       "    </tr>\n",
       "    <tr>\n",
       "      <th>2431</th>\n",
       "      <td>Zimbabwe</td>\n",
       "      <td>Green corn/Maize</td>\n",
       "      <td>2020</td>\n",
       "      <td>ha</td>\n",
       "      <td>1020723</td>\n",
       "    </tr>\n",
       "    <tr>\n",
       "      <th>2432</th>\n",
       "      <td>Zimbabwe</td>\n",
       "      <td>Green corn/Maize</td>\n",
       "      <td>2021</td>\n",
       "      <td>ha</td>\n",
       "      <td>959595</td>\n",
       "    </tr>\n",
       "    <tr>\n",
       "      <th>2433</th>\n",
       "      <td>Zimbabwe</td>\n",
       "      <td>Green corn/Maize</td>\n",
       "      <td>2022</td>\n",
       "      <td>ha</td>\n",
       "      <td>1001819</td>\n",
       "    </tr>\n",
       "  </tbody>\n",
       "</table>\n",
       "<p>2434 rows × 5 columns</p>\n",
       "</div>"
      ],
      "text/plain": [
       "           Area              Item  Year Unit    Value\n",
       "0     Australia  Green corn/Maize  1961   ha    75680\n",
       "1     Australia  Green corn/Maize  1962   ha    86151\n",
       "2     Australia  Green corn/Maize  1963   ha    85776\n",
       "3     Australia  Green corn/Maize  1964   ha    88009\n",
       "4     Australia  Green corn/Maize  1965   ha    87123\n",
       "...         ...               ...   ...  ...      ...\n",
       "2429   Zimbabwe  Green corn/Maize  2018   ha  1156828\n",
       "2430   Zimbabwe  Green corn/Maize  2019   ha   993170\n",
       "2431   Zimbabwe  Green corn/Maize  2020   ha  1020723\n",
       "2432   Zimbabwe  Green corn/Maize  2021   ha   959595\n",
       "2433   Zimbabwe  Green corn/Maize  2022   ha  1001819\n",
       "\n",
       "[2434 rows x 5 columns]"
      ]
     },
     "execution_count": 16,
     "metadata": {},
     "output_type": "execute_result"
    }
   ],
   "source": [
    "QCL_cornb"
   ]
  },
  {
   "cell_type": "code",
   "execution_count": 17,
   "id": "f426bd15-de96-42c5-8946-24193e3b372c",
   "metadata": {},
   "outputs": [
    {
     "data": {
      "text/html": [
       "<div>\n",
       "<style scoped>\n",
       "    .dataframe tbody tr th:only-of-type {\n",
       "        vertical-align: middle;\n",
       "    }\n",
       "\n",
       "    .dataframe tbody tr th {\n",
       "        vertical-align: top;\n",
       "    }\n",
       "\n",
       "    .dataframe thead th {\n",
       "        text-align: right;\n",
       "    }\n",
       "</style>\n",
       "<table border=\"1\" class=\"dataframe\">\n",
       "  <thead>\n",
       "    <tr style=\"text-align: right;\">\n",
       "      <th></th>\n",
       "      <th>Area</th>\n",
       "      <th>Item</th>\n",
       "      <th>Year</th>\n",
       "      <th>Unit</th>\n",
       "      <th>Value</th>\n",
       "    </tr>\n",
       "  </thead>\n",
       "  <tbody>\n",
       "    <tr>\n",
       "      <th>45433</th>\n",
       "      <td>Zimbabwe</td>\n",
       "      <td>Green corn/Maize</td>\n",
       "      <td>2022</td>\n",
       "      <td>ha</td>\n",
       "      <td>1001819</td>\n",
       "    </tr>\n",
       "  </tbody>\n",
       "</table>\n",
       "</div>"
      ],
      "text/plain": [
       "           Area              Item  Year Unit    Value\n",
       "45433  Zimbabwe  Green corn/Maize  2022   ha  1001819"
      ]
     },
     "execution_count": 17,
     "metadata": {},
     "output_type": "execute_result"
    }
   ],
   "source": [
    "QCL_clean = pd.concat([QCL_else,QCL_corna,QCL_cornb],ignore_index=True)\n",
    "QCL_clean.tail(1)"
   ]
  },
  {
   "cell_type": "markdown",
   "id": "177bec8d-2132-43c2-b6bc-c82d96e1d2ca",
   "metadata": {},
   "source": [
    "## Export QCL to csv\n",
    "---"
   ]
  },
  {
   "cell_type": "code",
   "execution_count": 18,
   "id": "30ca02c3-43e4-4c45-8289-5ed1ac00cbbc",
   "metadata": {},
   "outputs": [],
   "source": [
    "QCL_clean.to_csv('data/faostat/QCL_clean.csv',index=False)"
   ]
  },
  {
   "cell_type": "markdown",
   "id": "e727916b-75f4-4082-b5cd-bba4cefbed35",
   "metadata": {},
   "source": [
    "## Clean RL 'Area': Project historic data onto current countries\n",
    "---"
   ]
  },
  {
   "cell_type": "code",
   "execution_count": 19,
   "id": "90c3aec1-a0b9-4e79-a29b-cb254807ca5e",
   "metadata": {},
   "outputs": [],
   "source": [
    "for i,row in hist_df.iterrows():\n",
    "    if row['Former'] in RL_df.Area.unique():\n",
    "        for n in row['Succession']:\n",
    "            if n in RL_df.Area.unique():\n",
    "                RL_df.loc[n,'Value'] += RL_df.loc[row['Former'],'Value']\n",
    "        if not row['Exists']: RL_df.drop(RL_df.index[RL_df.Area==row['Former']], inplace = True)"
   ]
  },
  {
   "cell_type": "code",
   "execution_count": 20,
   "id": "d94c6061-c0c1-4e5b-9548-29381df204fe",
   "metadata": {},
   "outputs": [],
   "source": [
    "# remove 'China' ie. china (total) from data\n",
    "RL_df.drop(RL_df.index[RL_df.Area=='China'], inplace = True)"
   ]
  },
  {
   "cell_type": "markdown",
   "id": "f8449f1c-cce5-4be2-a460-fd2e64d17e8c",
   "metadata": {},
   "source": [
    "## Clean RL 'Area': \n",
    "---"
   ]
  },
  {
   "cell_type": "code",
   "execution_count": 21,
   "id": "77ea275f-561d-4e68-8f9b-39a942cba16d",
   "metadata": {},
   "outputs": [
    {
     "data": {
      "text/html": [
       "<div>\n",
       "<style scoped>\n",
       "    .dataframe tbody tr th:only-of-type {\n",
       "        vertical-align: middle;\n",
       "    }\n",
       "\n",
       "    .dataframe tbody tr th {\n",
       "        vertical-align: top;\n",
       "    }\n",
       "\n",
       "    .dataframe thead th {\n",
       "        text-align: right;\n",
       "    }\n",
       "</style>\n",
       "<table border=\"1\" class=\"dataframe\">\n",
       "  <thead>\n",
       "    <tr style=\"text-align: right;\">\n",
       "      <th></th>\n",
       "      <th>Area</th>\n",
       "      <th>Item</th>\n",
       "      <th>Year</th>\n",
       "      <th>Unit</th>\n",
       "      <th>Value</th>\n",
       "    </tr>\n",
       "  </thead>\n",
       "  <tbody>\n",
       "    <tr>\n",
       "      <th>75131</th>\n",
       "      <td>Zimbabwe</td>\n",
       "      <td>Primary Forest</td>\n",
       "      <td>2017</td>\n",
       "      <td>1000 ha</td>\n",
       "      <td>801.0</td>\n",
       "    </tr>\n",
       "  </tbody>\n",
       "</table>\n",
       "</div>"
      ],
      "text/plain": [
       "           Area            Item  Year     Unit  Value\n",
       "75131  Zimbabwe  Primary Forest  2017  1000 ha  801.0"
      ]
     },
     "execution_count": 21,
     "metadata": {},
     "output_type": "execute_result"
    }
   ],
   "source": [
    "RL_df.tail(1)"
   ]
  },
  {
   "cell_type": "code",
   "execution_count": 22,
   "id": "ccc1dca4-69f5-4fa2-990c-ab190025ea7d",
   "metadata": {},
   "outputs": [
    {
     "data": {
      "text/plain": [
       "array(['Land area', 'Cropland', 'Permanent meadows and pastures',\n",
       "       'Forest land', 'Naturally regenerating forest', 'Planted Forest',\n",
       "       'Other land', 'Primary Forest', 'Farm buildings and Farmyards',\n",
       "       'Land used for aquaculture'], dtype=object)"
      ]
     },
     "execution_count": 22,
     "metadata": {},
     "output_type": "execute_result"
    }
   ],
   "source": [
    "RL_df.Item.unique()"
   ]
  },
  {
   "cell_type": "code",
   "execution_count": 23,
   "id": "30c11713-3f05-44a1-959e-02742ab53ae0",
   "metadata": {},
   "outputs": [
    {
     "data": {
      "text/html": [
       "<div>\n",
       "<style scoped>\n",
       "    .dataframe tbody tr th:only-of-type {\n",
       "        vertical-align: middle;\n",
       "    }\n",
       "\n",
       "    .dataframe tbody tr th {\n",
       "        vertical-align: top;\n",
       "    }\n",
       "\n",
       "    .dataframe thead th {\n",
       "        text-align: right;\n",
       "    }\n",
       "</style>\n",
       "<table border=\"1\" class=\"dataframe\">\n",
       "  <thead>\n",
       "    <tr style=\"text-align: right;\">\n",
       "      <th></th>\n",
       "      <th>Area</th>\n",
       "      <th>Item</th>\n",
       "      <th>Year</th>\n",
       "      <th>Unit</th>\n",
       "      <th>Value</th>\n",
       "      <th>AreaYear</th>\n",
       "    </tr>\n",
       "  </thead>\n",
       "  <tbody>\n",
       "    <tr>\n",
       "      <th>75131</th>\n",
       "      <td>Zimbabwe</td>\n",
       "      <td>Primary Forest</td>\n",
       "      <td>2017</td>\n",
       "      <td>1000 ha</td>\n",
       "      <td>801.0</td>\n",
       "      <td>Zimbabwe2017</td>\n",
       "    </tr>\n",
       "  </tbody>\n",
       "</table>\n",
       "</div>"
      ],
      "text/plain": [
       "           Area            Item  Year     Unit  Value      AreaYear\n",
       "75131  Zimbabwe  Primary Forest  2017  1000 ha  801.0  Zimbabwe2017"
      ]
     },
     "execution_count": 23,
     "metadata": {},
     "output_type": "execute_result"
    }
   ],
   "source": [
    "RL_df.loc[:,'AreaYear'] = [x+str(y) for x,y in zip(RL_df.Area,RL_df.Year)]\n",
    "RL_df.tail(1)"
   ]
  },
  {
   "cell_type": "code",
   "execution_count": 54,
   "id": "43ff9725-d13c-4b56-b2b3-e7f1256f228f",
   "metadata": {},
   "outputs": [],
   "source": [
    "# Land Area = Cropland + Permanent meadows and pastures + Forest land + \n",
    "#   Other land(barren land and desert area, urban land, infrastructure) + Farm buildings and Farmyards\n",
    "land_types = ['Land area','Cropland','Permanent meadows and pastures','Forest land','Other land', 'Farm buildings and Farmyards']"
   ]
  },
  {
   "cell_type": "code",
   "execution_count": 55,
   "id": "2b0ea400-7c82-49e2-8874-f0708f2df709",
   "metadata": {},
   "outputs": [],
   "source": [
    "RL_dense = RL_df.loc[RL_df.Item.isin(land_types)][['Item','Value','AreaYear']].groupby('AreaYear').agg(list)"
   ]
  },
  {
   "cell_type": "code",
   "execution_count": 56,
   "id": "296f2b08-009a-4b04-bfc7-0e05fdc9248a",
   "metadata": {},
   "outputs": [],
   "source": [
    "RL_dense['Unaccounted'] = [ x[0] - sum(x[1:len(x)]) for x in RL_dense['Value']]"
   ]
  },
  {
   "cell_type": "code",
   "execution_count": 57,
   "id": "fa1f9f26-7497-4cb4-a7d9-9b671ab8f239",
   "metadata": {},
   "outputs": [
    {
     "data": {
      "text/html": [
       "<div>\n",
       "<style scoped>\n",
       "    .dataframe tbody tr th:only-of-type {\n",
       "        vertical-align: middle;\n",
       "    }\n",
       "\n",
       "    .dataframe tbody tr th {\n",
       "        vertical-align: top;\n",
       "    }\n",
       "\n",
       "    .dataframe thead th {\n",
       "        text-align: right;\n",
       "    }\n",
       "</style>\n",
       "<table border=\"1\" class=\"dataframe\">\n",
       "  <thead>\n",
       "    <tr style=\"text-align: right;\">\n",
       "      <th></th>\n",
       "      <th>Item</th>\n",
       "      <th>Value</th>\n",
       "      <th>Unaccounted</th>\n",
       "    </tr>\n",
       "    <tr>\n",
       "      <th>AreaYear</th>\n",
       "      <th></th>\n",
       "      <th></th>\n",
       "      <th></th>\n",
       "    </tr>\n",
       "  </thead>\n",
       "  <tbody>\n",
       "    <tr>\n",
       "      <th>Afghanistan1961</th>\n",
       "      <td>[Land area, Cropland, Permanent meadows and pa...</td>\n",
       "      <td>[65223.0, 7750.0, 30000.0]</td>\n",
       "      <td>27473.0</td>\n",
       "    </tr>\n",
       "    <tr>\n",
       "      <th>Afghanistan1962</th>\n",
       "      <td>[Land area, Cropland, Permanent meadows and pa...</td>\n",
       "      <td>[65223.0, 7800.0, 30000.0]</td>\n",
       "      <td>27423.0</td>\n",
       "    </tr>\n",
       "    <tr>\n",
       "      <th>Afghanistan1963</th>\n",
       "      <td>[Land area, Cropland, Permanent meadows and pa...</td>\n",
       "      <td>[65223.0, 7850.0, 30000.0]</td>\n",
       "      <td>27373.0</td>\n",
       "    </tr>\n",
       "    <tr>\n",
       "      <th>Afghanistan1964</th>\n",
       "      <td>[Land area, Cropland, Permanent meadows and pa...</td>\n",
       "      <td>[65223.0, 7905.0, 30000.0]</td>\n",
       "      <td>27318.0</td>\n",
       "    </tr>\n",
       "    <tr>\n",
       "      <th>Afghanistan1965</th>\n",
       "      <td>[Land area, Cropland, Permanent meadows and pa...</td>\n",
       "      <td>[65223.0, 7910.0, 30000.0]</td>\n",
       "      <td>27313.0</td>\n",
       "    </tr>\n",
       "    <tr>\n",
       "      <th>...</th>\n",
       "      <td>...</td>\n",
       "      <td>...</td>\n",
       "      <td>...</td>\n",
       "    </tr>\n",
       "    <tr>\n",
       "      <th>Zimbabwe2018</th>\n",
       "      <td>[Land area, Cropland, Permanent meadows and pa...</td>\n",
       "      <td>[38685.0, 3367.6304, 12100.0, 17536.72, 5680.6...</td>\n",
       "      <td>0.0</td>\n",
       "    </tr>\n",
       "    <tr>\n",
       "      <th>Zimbabwe2019</th>\n",
       "      <td>[Land area, Cropland, Permanent meadows and pa...</td>\n",
       "      <td>[38685.0, 3187.6768, 12100.0, 17490.65, 5906.6...</td>\n",
       "      <td>0.0</td>\n",
       "    </tr>\n",
       "    <tr>\n",
       "      <th>Zimbabwe2020</th>\n",
       "      <td>[Land area, Cropland, Permanent meadows and pa...</td>\n",
       "      <td>[38685.0, 3278.8634, 12100.0, 17444.58, 5861.5...</td>\n",
       "      <td>0.0</td>\n",
       "    </tr>\n",
       "    <tr>\n",
       "      <th>Zimbabwe2021</th>\n",
       "      <td>[Land area, Cropland, Permanent meadows and pa...</td>\n",
       "      <td>[38685.0, 3136.4378, 12100.0, 17398.51, 6050.0...</td>\n",
       "      <td>0.0</td>\n",
       "    </tr>\n",
       "    <tr>\n",
       "      <th>Zimbabwe2022</th>\n",
       "      <td>[Land area, Cropland, Permanent meadows and pa...</td>\n",
       "      <td>[38685.0, 3176.4297, 12100.0, 17352.44, 6056.1...</td>\n",
       "      <td>0.0</td>\n",
       "    </tr>\n",
       "  </tbody>\n",
       "</table>\n",
       "<p>13318 rows × 3 columns</p>\n",
       "</div>"
      ],
      "text/plain": [
       "                                                              Item  \\\n",
       "AreaYear                                                             \n",
       "Afghanistan1961  [Land area, Cropland, Permanent meadows and pa...   \n",
       "Afghanistan1962  [Land area, Cropland, Permanent meadows and pa...   \n",
       "Afghanistan1963  [Land area, Cropland, Permanent meadows and pa...   \n",
       "Afghanistan1964  [Land area, Cropland, Permanent meadows and pa...   \n",
       "Afghanistan1965  [Land area, Cropland, Permanent meadows and pa...   \n",
       "...                                                            ...   \n",
       "Zimbabwe2018     [Land area, Cropland, Permanent meadows and pa...   \n",
       "Zimbabwe2019     [Land area, Cropland, Permanent meadows and pa...   \n",
       "Zimbabwe2020     [Land area, Cropland, Permanent meadows and pa...   \n",
       "Zimbabwe2021     [Land area, Cropland, Permanent meadows and pa...   \n",
       "Zimbabwe2022     [Land area, Cropland, Permanent meadows and pa...   \n",
       "\n",
       "                                                             Value  \\\n",
       "AreaYear                                                             \n",
       "Afghanistan1961                         [65223.0, 7750.0, 30000.0]   \n",
       "Afghanistan1962                         [65223.0, 7800.0, 30000.0]   \n",
       "Afghanistan1963                         [65223.0, 7850.0, 30000.0]   \n",
       "Afghanistan1964                         [65223.0, 7905.0, 30000.0]   \n",
       "Afghanistan1965                         [65223.0, 7910.0, 30000.0]   \n",
       "...                                                            ...   \n",
       "Zimbabwe2018     [38685.0, 3367.6304, 12100.0, 17536.72, 5680.6...   \n",
       "Zimbabwe2019     [38685.0, 3187.6768, 12100.0, 17490.65, 5906.6...   \n",
       "Zimbabwe2020     [38685.0, 3278.8634, 12100.0, 17444.58, 5861.5...   \n",
       "Zimbabwe2021     [38685.0, 3136.4378, 12100.0, 17398.51, 6050.0...   \n",
       "Zimbabwe2022     [38685.0, 3176.4297, 12100.0, 17352.44, 6056.1...   \n",
       "\n",
       "                 Unaccounted  \n",
       "AreaYear                      \n",
       "Afghanistan1961      27473.0  \n",
       "Afghanistan1962      27423.0  \n",
       "Afghanistan1963      27373.0  \n",
       "Afghanistan1964      27318.0  \n",
       "Afghanistan1965      27313.0  \n",
       "...                      ...  \n",
       "Zimbabwe2018             0.0  \n",
       "Zimbabwe2019             0.0  \n",
       "Zimbabwe2020             0.0  \n",
       "Zimbabwe2021             0.0  \n",
       "Zimbabwe2022             0.0  \n",
       "\n",
       "[13318 rows x 3 columns]"
      ]
     },
     "execution_count": 57,
     "metadata": {},
     "output_type": "execute_result"
    }
   ],
   "source": [
    "RL_dense"
   ]
  },
  {
   "cell_type": "code",
   "execution_count": 59,
   "id": "f8613994-35ed-4510-8553-a0da20e04cc1",
   "metadata": {},
   "outputs": [
    {
     "data": {
      "text/plain": [
       "Item           5917\n",
       "Value          5917\n",
       "Unaccounted    5917\n",
       "dtype: int64"
      ]
     },
     "execution_count": 59,
     "metadata": {},
     "output_type": "execute_result"
    }
   ],
   "source": [
    "RL_dense.loc[RL_dense.Unaccounted>1].count()"
   ]
  },
  {
   "cell_type": "code",
   "execution_count": 60,
   "id": "424032cd-bf83-4f63-9570-e056c344e253",
   "metadata": {},
   "outputs": [],
   "source": [
    "for t in land_types: RL_dense[t] = 0.0"
   ]
  },
  {
   "cell_type": "code",
   "execution_count": 61,
   "id": "d69a1152-d6ce-4965-ac38-9ee77435efb4",
   "metadata": {},
   "outputs": [],
   "source": [
    "for name in RL_dense.index:\n",
    "    for i in range(0,len(RL_dense.Item[name])):\n",
    "        RL_dense.loc[name,RL_dense.Item[name][i]] = RL_dense.Value[name][i]"
   ]
  },
  {
   "cell_type": "code",
   "execution_count": 71,
   "id": "257ab6cc-d4d0-4eb2-b7ad-1a85674fe41f",
   "metadata": {},
   "outputs": [],
   "source": [
    "RL_clean = pd.DataFrame()\n",
    "RL_clean['Area'] = [s[0:len(s)-4] for s in RL_dense.index]\n",
    "RL_clean['Year'] = [int(s[len(s)-4:]) for s in RL_dense.index]\n",
    "for type in land_types: RL_clean[type] = [*RL_dense[type]]\n",
    "RL_clean['Unaccounted'] = [*RL_dense['Unaccounted']]"
   ]
  },
  {
   "cell_type": "code",
   "execution_count": 72,
   "id": "97d689e9-30a9-4a87-804e-241941b9899e",
   "metadata": {},
   "outputs": [
    {
     "data": {
      "text/html": [
       "<div>\n",
       "<style scoped>\n",
       "    .dataframe tbody tr th:only-of-type {\n",
       "        vertical-align: middle;\n",
       "    }\n",
       "\n",
       "    .dataframe tbody tr th {\n",
       "        vertical-align: top;\n",
       "    }\n",
       "\n",
       "    .dataframe thead th {\n",
       "        text-align: right;\n",
       "    }\n",
       "</style>\n",
       "<table border=\"1\" class=\"dataframe\">\n",
       "  <thead>\n",
       "    <tr style=\"text-align: right;\">\n",
       "      <th></th>\n",
       "      <th>Area</th>\n",
       "      <th>Year</th>\n",
       "      <th>Land area</th>\n",
       "      <th>Cropland</th>\n",
       "      <th>Permanent meadows and pastures</th>\n",
       "      <th>Forest land</th>\n",
       "      <th>Other land</th>\n",
       "      <th>Farm buildings and Farmyards</th>\n",
       "      <th>Unaccounted</th>\n",
       "    </tr>\n",
       "  </thead>\n",
       "  <tbody>\n",
       "    <tr>\n",
       "      <th>0</th>\n",
       "      <td>Afghanistan</td>\n",
       "      <td>1961</td>\n",
       "      <td>65223.0</td>\n",
       "      <td>7750.0000</td>\n",
       "      <td>30000.0</td>\n",
       "      <td>0.00</td>\n",
       "      <td>0.0000</td>\n",
       "      <td>0.0</td>\n",
       "      <td>27473.0</td>\n",
       "    </tr>\n",
       "    <tr>\n",
       "      <th>1</th>\n",
       "      <td>Afghanistan</td>\n",
       "      <td>1962</td>\n",
       "      <td>65223.0</td>\n",
       "      <td>7800.0000</td>\n",
       "      <td>30000.0</td>\n",
       "      <td>0.00</td>\n",
       "      <td>0.0000</td>\n",
       "      <td>0.0</td>\n",
       "      <td>27423.0</td>\n",
       "    </tr>\n",
       "    <tr>\n",
       "      <th>2</th>\n",
       "      <td>Afghanistan</td>\n",
       "      <td>1963</td>\n",
       "      <td>65223.0</td>\n",
       "      <td>7850.0000</td>\n",
       "      <td>30000.0</td>\n",
       "      <td>0.00</td>\n",
       "      <td>0.0000</td>\n",
       "      <td>0.0</td>\n",
       "      <td>27373.0</td>\n",
       "    </tr>\n",
       "    <tr>\n",
       "      <th>3</th>\n",
       "      <td>Afghanistan</td>\n",
       "      <td>1964</td>\n",
       "      <td>65223.0</td>\n",
       "      <td>7905.0000</td>\n",
       "      <td>30000.0</td>\n",
       "      <td>0.00</td>\n",
       "      <td>0.0000</td>\n",
       "      <td>0.0</td>\n",
       "      <td>27318.0</td>\n",
       "    </tr>\n",
       "    <tr>\n",
       "      <th>4</th>\n",
       "      <td>Afghanistan</td>\n",
       "      <td>1965</td>\n",
       "      <td>65223.0</td>\n",
       "      <td>7910.0000</td>\n",
       "      <td>30000.0</td>\n",
       "      <td>0.00</td>\n",
       "      <td>0.0000</td>\n",
       "      <td>0.0</td>\n",
       "      <td>27313.0</td>\n",
       "    </tr>\n",
       "    <tr>\n",
       "      <th>...</th>\n",
       "      <td>...</td>\n",
       "      <td>...</td>\n",
       "      <td>...</td>\n",
       "      <td>...</td>\n",
       "      <td>...</td>\n",
       "      <td>...</td>\n",
       "      <td>...</td>\n",
       "      <td>...</td>\n",
       "      <td>...</td>\n",
       "    </tr>\n",
       "    <tr>\n",
       "      <th>13313</th>\n",
       "      <td>Zimbabwe</td>\n",
       "      <td>2018</td>\n",
       "      <td>38685.0</td>\n",
       "      <td>3367.6304</td>\n",
       "      <td>12100.0</td>\n",
       "      <td>17536.72</td>\n",
       "      <td>5680.6496</td>\n",
       "      <td>0.0</td>\n",
       "      <td>0.0</td>\n",
       "    </tr>\n",
       "    <tr>\n",
       "      <th>13314</th>\n",
       "      <td>Zimbabwe</td>\n",
       "      <td>2019</td>\n",
       "      <td>38685.0</td>\n",
       "      <td>3187.6768</td>\n",
       "      <td>12100.0</td>\n",
       "      <td>17490.65</td>\n",
       "      <td>5906.6732</td>\n",
       "      <td>0.0</td>\n",
       "      <td>0.0</td>\n",
       "    </tr>\n",
       "    <tr>\n",
       "      <th>13315</th>\n",
       "      <td>Zimbabwe</td>\n",
       "      <td>2020</td>\n",
       "      <td>38685.0</td>\n",
       "      <td>3278.8634</td>\n",
       "      <td>12100.0</td>\n",
       "      <td>17444.58</td>\n",
       "      <td>5861.5566</td>\n",
       "      <td>0.0</td>\n",
       "      <td>0.0</td>\n",
       "    </tr>\n",
       "    <tr>\n",
       "      <th>13316</th>\n",
       "      <td>Zimbabwe</td>\n",
       "      <td>2021</td>\n",
       "      <td>38685.0</td>\n",
       "      <td>3136.4378</td>\n",
       "      <td>12100.0</td>\n",
       "      <td>17398.51</td>\n",
       "      <td>6050.0522</td>\n",
       "      <td>0.0</td>\n",
       "      <td>0.0</td>\n",
       "    </tr>\n",
       "    <tr>\n",
       "      <th>13317</th>\n",
       "      <td>Zimbabwe</td>\n",
       "      <td>2022</td>\n",
       "      <td>38685.0</td>\n",
       "      <td>3176.4297</td>\n",
       "      <td>12100.0</td>\n",
       "      <td>17352.44</td>\n",
       "      <td>6056.1303</td>\n",
       "      <td>0.0</td>\n",
       "      <td>0.0</td>\n",
       "    </tr>\n",
       "  </tbody>\n",
       "</table>\n",
       "<p>13318 rows × 9 columns</p>\n",
       "</div>"
      ],
      "text/plain": [
       "              Area  Year  Land area   Cropland  \\\n",
       "0      Afghanistan  1961    65223.0  7750.0000   \n",
       "1      Afghanistan  1962    65223.0  7800.0000   \n",
       "2      Afghanistan  1963    65223.0  7850.0000   \n",
       "3      Afghanistan  1964    65223.0  7905.0000   \n",
       "4      Afghanistan  1965    65223.0  7910.0000   \n",
       "...            ...   ...        ...        ...   \n",
       "13313     Zimbabwe  2018    38685.0  3367.6304   \n",
       "13314     Zimbabwe  2019    38685.0  3187.6768   \n",
       "13315     Zimbabwe  2020    38685.0  3278.8634   \n",
       "13316     Zimbabwe  2021    38685.0  3136.4378   \n",
       "13317     Zimbabwe  2022    38685.0  3176.4297   \n",
       "\n",
       "       Permanent meadows and pastures  Forest land  Other land  \\\n",
       "0                             30000.0         0.00      0.0000   \n",
       "1                             30000.0         0.00      0.0000   \n",
       "2                             30000.0         0.00      0.0000   \n",
       "3                             30000.0         0.00      0.0000   \n",
       "4                             30000.0         0.00      0.0000   \n",
       "...                               ...          ...         ...   \n",
       "13313                         12100.0     17536.72   5680.6496   \n",
       "13314                         12100.0     17490.65   5906.6732   \n",
       "13315                         12100.0     17444.58   5861.5566   \n",
       "13316                         12100.0     17398.51   6050.0522   \n",
       "13317                         12100.0     17352.44   6056.1303   \n",
       "\n",
       "       Farm buildings and Farmyards  Unaccounted  \n",
       "0                               0.0      27473.0  \n",
       "1                               0.0      27423.0  \n",
       "2                               0.0      27373.0  \n",
       "3                               0.0      27318.0  \n",
       "4                               0.0      27313.0  \n",
       "...                             ...          ...  \n",
       "13313                           0.0          0.0  \n",
       "13314                           0.0          0.0  \n",
       "13315                           0.0          0.0  \n",
       "13316                           0.0          0.0  \n",
       "13317                           0.0          0.0  \n",
       "\n",
       "[13318 rows x 9 columns]"
      ]
     },
     "execution_count": 72,
     "metadata": {},
     "output_type": "execute_result"
    }
   ],
   "source": [
    "RL_clean"
   ]
  },
  {
   "cell_type": "markdown",
   "id": "c83d7a85-c603-4c74-92ec-4a5717d9c9c1",
   "metadata": {},
   "source": [
    "## Export RL Data\n",
    "---"
   ]
  },
  {
   "cell_type": "code",
   "execution_count": 73,
   "id": "b8f6e400-b2f3-4490-bc60-2212b44b2f84",
   "metadata": {},
   "outputs": [],
   "source": [
    "RL_clean.to_csv('data/faostat/RL_clean.csv',index=False)"
   ]
  },
  {
   "cell_type": "code",
   "execution_count": null,
   "id": "22187638-b3a2-41ce-a2a0-e79c024c25b1",
   "metadata": {},
   "outputs": [],
   "source": []
  }
 ],
 "metadata": {
  "kernelspec": {
   "display_name": "Python 3 (ipykernel)",
   "language": "python",
   "name": "python3"
  },
  "language_info": {
   "codemirror_mode": {
    "name": "ipython",
    "version": 3
   },
   "file_extension": ".py",
   "mimetype": "text/x-python",
   "name": "python",
   "nbconvert_exporter": "python",
   "pygments_lexer": "ipython3",
   "version": "3.10.14"
  }
 },
 "nbformat": 4,
 "nbformat_minor": 5
}
